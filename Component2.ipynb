{
 "cells": [
  {
   "metadata": {},
   "cell_type": "markdown",
   "source": "# 03_Component2_Gap_Analysis.ipynb\n",
   "id": "c47a73a182740b84"
  },
  {
   "metadata": {},
   "cell_type": "markdown",
   "source": "## 1. Environment Setup & Imports\n",
   "id": "81e0ffcba6b96584"
  },
  {
   "metadata": {
    "ExecuteTime": {
     "end_time": "2025-06-15T06:05:29.250899Z",
     "start_time": "2025-06-15T06:05:28.932309Z"
    }
   },
   "cell_type": "code",
   "source": [
    "## 1. Environment Setup & Imports\n",
    "\n",
    "import pandas as pd\n",
    "import numpy as np\n",
    "import nltk\n",
    "import torch\n",
    "from transformers import pipeline, AutoTokenizer, AutoModel\n",
    "from sklearn.metrics.pairwise import cosine_similarity\n",
    "import matplotlib.pyplot as plt\n",
    "import seaborn as sns\n",
    "import json\n",
    "from joblib import load, dump\n",
    "\n",
    "# Styling\n",
    "sns.set(style=\"whitegrid\")\n",
    "\n",
    "# Download NLTK data (once)\n",
    "nltk.download('punkt')\n",
    "nltk.download('stopwords')\n"
   ],
   "id": "945f18c975984413",
   "outputs": [
    {
     "name": "stderr",
     "output_type": "stream",
     "text": [
      "[nltk_data] Downloading package punkt to\n",
      "[nltk_data]     C:\\Users\\piyum\\AppData\\Roaming\\nltk_data...\n",
      "[nltk_data]   Package punkt is already up-to-date!\n",
      "[nltk_data] Downloading package stopwords to\n",
      "[nltk_data]     C:\\Users\\piyum\\AppData\\Roaming\\nltk_data...\n",
      "[nltk_data]   Package stopwords is already up-to-date!\n"
     ]
    },
    {
     "data": {
      "text/plain": [
       "True"
      ]
     },
     "execution_count": 4,
     "metadata": {},
     "output_type": "execute_result"
    }
   ],
   "execution_count": 4
  },
  {
   "metadata": {},
   "cell_type": "markdown",
   "source": "## 2. Load Data & Models\n",
   "id": "51b1bcc415917bdd"
  },
  {
   "metadata": {
    "ExecuteTime": {
     "end_time": "2025-06-15T06:11:28.208307Z",
     "start_time": "2025-06-15T06:11:28.047940Z"
    }
   },
   "cell_type": "code",
   "source": [
    "# 03_Component2_Gap_Analysis_TFIDF.ipynb\n",
    "\n",
    "## 1. Environment Setup & Imports\n",
    "\n",
    "import pandas as pd\n",
    "import numpy as np\n",
    "import nltk\n",
    "\n",
    "# Sentiment\n",
    "from nltk.sentiment.vader import SentimentIntensityAnalyzer\n",
    "\n",
    "# Tokenization\n",
    "from nltk.tokenize import sent_tokenize, word_tokenize\n",
    "from nltk.corpus import stopwords\n",
    "\n",
    "# TF-IDF & similarity\n",
    "from sklearn.feature_extraction.text import TfidfVectorizer\n",
    "from sklearn.metrics.pairwise import cosine_similarity\n",
    "\n",
    "# Visualization\n",
    "import matplotlib.pyplot as plt\n",
    "import seaborn as sns\n",
    "\n",
    "# Utilities\n",
    "from joblib import load, dump\n",
    "\n",
    "# Styling\n",
    "sns.set(style=\"whitegrid\")\n",
    "\n",
    "# Download required NLTK data (run once)\n",
    "nltk.download('punkt')\n",
    "nltk.download('vader_lexicon')\n",
    "nltk.download('stopwords')\n",
    "\n",
    "\n",
    "## 2. Load Data & Prepare Resources\n",
    "\n",
    "# 2.1 Preprocessed feedback\n",
    "df = pd.read_excel(\"cleaned_feedback_preprocessed.xlsx\")\n",
    "\n",
    "# 2.2 Inline Aspect Ontology\n",
    "ontology = {\n",
    "    \"mentorship\": [\"mentor\",\"supervisor\",\"coach\",\"guide\",\"mentorship\"],\n",
    "    \"technical_support\": [\"code\",\"review\",\"debug\",\"assistance\",\"support\",\"ci_cd\",\"repository\",\"documentation\"],\n",
    "    \"learning_opportunities\": [\"training\",\"workshop\",\"tutorial\",\"learning\",\"session\",\"seminar\"],\n",
    "    \"workload\": [\"task\",\"deadline\",\"hours\",\"workload\",\"assignment\",\"responsibility\"],\n",
    "    \"team_collaboration\": [\"team\",\"communication\",\"meeting\",\"collaboration\",\"scrum\",\"stand_up\"],\n",
    "    \"environment\": [\"workspace\",\"tools\",\"software\",\"hardware\",\"remote\",\"office\",\"infrastructure\"],\n",
    "    \"professional_networking\": [\"networking\",\"event\",\"culture\",\"social\",\"interaction\",\"community\"],\n",
    "    \"career_guidance\": [\"career\",\"path\",\"feedback\",\"evaluation\",\"progression\",\"review\"]\n",
    "}\n",
    "aspect_categories = list(ontology.keys())\n",
    "\n",
    "# 2.3 Sentiment analyzer\n",
    "sid = SentimentIntensityAnalyzer()\n",
    "\n",
    "# 2.4 Stopwords for token filtering\n",
    "stop_words = set(stopwords.words('english'))\n",
    "# (Add any domain‐specific stopwords if desired)\n"
   ],
   "id": "4b5bf3fb05403566",
   "outputs": [
    {
     "name": "stderr",
     "output_type": "stream",
     "text": [
      "[nltk_data] Downloading package punkt to\n",
      "[nltk_data]     C:\\Users\\piyum\\AppData\\Roaming\\nltk_data...\n",
      "[nltk_data]   Package punkt is already up-to-date!\n",
      "[nltk_data] Downloading package vader_lexicon to\n",
      "[nltk_data]     C:\\Users\\piyum\\AppData\\Roaming\\nltk_data...\n",
      "[nltk_data]   Package vader_lexicon is already up-to-date!\n",
      "[nltk_data] Downloading package stopwords to\n",
      "[nltk_data]     C:\\Users\\piyum\\AppData\\Roaming\\nltk_data...\n",
      "[nltk_data]   Package stopwords is already up-to-date!\n"
     ]
    }
   ],
   "execution_count": 11
  },
  {
   "metadata": {},
   "cell_type": "markdown",
   "source": "## 3. Helper Functions\n",
   "id": "6b27452441e685d0"
  },
  {
   "metadata": {
    "ExecuteTime": {
     "end_time": "2025-06-15T06:53:07.464612Z",
     "start_time": "2025-06-15T06:53:07.442847Z"
    }
   },
   "cell_type": "code",
   "source": [
    "## 3. Helper Functions (NLTK‐free tokenization)\n",
    "\n",
    "import re\n",
    "from nltk.sentiment.vader import SentimentIntensityAnalyzer\n",
    "\n",
    "# initialize sentiment analyzer\n",
    "sid = SentimentIntensityAnalyzer()\n",
    "\n",
    "def split_sentences(text: str) -> list[str]:\n",
    "    \"\"\"\n",
    "    Split text on '.', '!' or '?' followed by whitespace.\n",
    "    Returns non-empty trimmed segments.\n",
    "    \"\"\"\n",
    "    parts = re.split(r'(?<=[.!?])\\s+', text)\n",
    "    return [p.strip() for p in parts if p.strip()]\n",
    "\n",
    "def classify_sentence_type(sent: str) -> str:\n",
    "    \"\"\"\n",
    "    Heuristic to classify a sentence as:\n",
    "      - \"expect\" if it mentions expectation keywords,\n",
    "      - \"experience\" if it mentions experience keywords,\n",
    "      - \"other\" otherwise.\n",
    "    \"\"\"\n",
    "    s = sent.lower()\n",
    "    if re.search(r'\\b(expect|hope|plan|anticipat|want)\\b', s):\n",
    "        return \"expect\"\n",
    "    if re.search(r'\\b(found|was|experienced|learned|got|felt)\\b', s):\n",
    "        return \"experience\"\n",
    "    return \"other\"\n",
    "\n",
    "def map_aspects(sent: str) -> list[str]:\n",
    "    \"\"\"\n",
    "    Return list of aspect categories whose lexicon terms appear in the sentence.\n",
    "    Tokenization is done via simple regex.\n",
    "    \"\"\"\n",
    "    tokens = re.findall(r'\\b[a-zA-Z]+\\b', sent.lower())\n",
    "    cats = []\n",
    "    for aspect, terms in ontology.items():\n",
    "        for term in terms:\n",
    "            if term in tokens:\n",
    "                cats.append(aspect)\n",
    "                break\n",
    "    return cats\n",
    "\n",
    "def sentiment_polarity(sent: str) -> int:\n",
    "    \"\"\"\n",
    "    Compute VADER compound score and map to {-1,0,+1}.\n",
    "    \"\"\"\n",
    "    score = sid.polarity_scores(sent)[\"compound\"]\n",
    "    if score >= 0.05:\n",
    "        return 1\n",
    "    if score <= -0.05:\n",
    "        return -1\n",
    "    return 0\n"
   ],
   "id": "f31d1576318b10df",
   "outputs": [],
   "execution_count": 38
  },
  {
   "metadata": {},
   "cell_type": "markdown",
   "source": "## 4. Build Expectation & Experience Sets\n",
   "id": "906b35f186f0def9"
  },
  {
   "metadata": {
    "ExecuteTime": {
     "end_time": "2025-06-15T06:53:09.923582Z",
     "start_time": "2025-06-15T06:53:09.871179Z"
    }
   },
   "cell_type": "code",
   "source": [
    "## 4. Build Expectation & Experience Records (corrected)\n",
    "\n",
    "# 4.1 Auto‐detect the main feedback column by average string length\n",
    "string_cols = df.select_dtypes(include='object').columns\n",
    "avg_lengths = (\n",
    "    df[string_cols]\n",
    "    .dropna()\n",
    "    .astype(str)\n",
    "    .applymap(len)\n",
    "    .mean()\n",
    ")\n",
    "text_col = avg_lengths.idxmax()\n",
    "print(f\"Using `{text_col}` as the feedback text column.\\n\")\n",
    "\n",
    "# 4.2 Build the records list\n",
    "records = []\n",
    "for idx, text in df[text_col].dropna().astype(str).items():   # use .items() instead of iteritems()\n",
    "    # split into sentences\n",
    "    for sent in split_sentences(text):\n",
    "        sent_type = classify_sentence_type(sent)\n",
    "        if sent_type == \"other\":\n",
    "            continue\n",
    "        cats = map_aspects(sent)\n",
    "        if not cats:\n",
    "            continue\n",
    "        pol = sentiment_polarity(sent)\n",
    "        records.append({\n",
    "            \"id\": idx,\n",
    "            \"sentence\": sent,\n",
    "            \"sent_type\": sent_type,\n",
    "            \"aspects\": cats,\n",
    "            \"polarity\": pol\n",
    "        })\n",
    "\n",
    "gap_df = pd.DataFrame(records)\n",
    "\n",
    "# 4.3 Inspect results\n",
    "print(\"Sentence type counts:\\n\", gap_df[\"sent_type\"].value_counts())\n",
    "print(\"\\nColumns in gap_df:\", gap_df.columns.tolist())\n"
   ],
   "id": "4272c56335219625",
   "outputs": [
    {
     "name": "stdout",
     "output_type": "stream",
     "text": [
      "Using `unnamed__7` as the feedback text column.\n",
      "\n",
      "Sentence type counts:\n",
      " sent_type\n",
      "experience    32\n",
      "expect         3\n",
      "Name: count, dtype: int64\n",
      "\n",
      "Columns in gap_df: ['id', 'sentence', 'sent_type', 'aspects', 'polarity']\n"
     ]
    },
    {
     "name": "stderr",
     "output_type": "stream",
     "text": [
      "C:\\Users\\piyum\\AppData\\Local\\Temp\\ipykernel_22688\\625436299.py:6: FutureWarning: DataFrame.applymap has been deprecated. Use DataFrame.map instead.\n",
      "  df[string_cols]\n"
     ]
    }
   ],
   "execution_count": 39
  },
  {
   "metadata": {},
   "cell_type": "markdown",
   "source": "## 5. Compute Per-Aspect Metrics per Intern\n",
   "id": "3f47ac8491b2e64d"
  },
  {
   "metadata": {
    "ExecuteTime": {
     "end_time": "2025-06-15T06:53:17.314918Z",
     "start_time": "2025-06-15T06:53:16.590669Z"
    }
   },
   "cell_type": "code",
   "source": [
    "## 5. Compute Per-Aspect Discrepancy Metrics\n",
    "\n",
    "from sklearn.feature_extraction.text import TfidfVectorizer\n",
    "\n",
    "# 5.1 Fit TF-IDF on all extracted sentences\n",
    "tfidf = TfidfVectorizer()\n",
    "tfidf.fit(gap_df['sentence'])\n",
    "\n",
    "res = []\n",
    "alpha = 0.6  # semantic vs. sentiment weight\n",
    "\n",
    "for idx, grp in gap_df.groupby('id'):\n",
    "    # overall satisfaction if available\n",
    "    overall = df.at[idx, 'overall_satisfaction'] if 'overall_satisfaction' in df.columns else np.nan\n",
    "\n",
    "    for aspect in aspect_categories:\n",
    "        sub = grp[grp['aspects'].apply(lambda L: aspect in L)]\n",
    "\n",
    "        # Expectation sentences\n",
    "        exp_sents = sub[sub['sent_type']=='expect']['sentence'].tolist()\n",
    "        if exp_sents:\n",
    "            exp_mat = tfidf.transform(exp_sents)\n",
    "            exp_cent = np.asarray(exp_mat.mean(axis=0)).ravel()\n",
    "            exp_pol = sub[sub['sent_type']=='expect']['polarity'].mean()\n",
    "        else:\n",
    "            exp_cent = np.zeros(tfidf.transform(['']).shape[1])\n",
    "            exp_pol = 0.0\n",
    "\n",
    "        # Experience sentences\n",
    "        xp_sents = sub[sub['sent_type']=='experience']['sentence'].tolist()\n",
    "        if xp_sents:\n",
    "            xp_mat = tfidf.transform(xp_sents)\n",
    "            xp_cent = np.asarray(xp_mat.mean(axis=0)).ravel()\n",
    "            xp_pol = sub[sub['sent_type']=='experience']['polarity'].mean()\n",
    "        else:\n",
    "            xp_cent = np.zeros(tfidf.transform(['']).shape[1])\n",
    "            xp_pol = 0.0\n",
    "\n",
    "        # Semantic gap\n",
    "        sim = cosine_similarity([exp_cent], [xp_cent])[0, 0]\n",
    "        sem_gap = 1 - sim\n",
    "\n",
    "        # Sentiment gap\n",
    "        sent_gap = xp_pol - exp_pol\n",
    "\n",
    "        # Hybrid gap\n",
    "        hyb_gap = alpha * sem_gap + (1 - alpha) * abs(sent_gap)\n",
    "\n",
    "        res.append({\n",
    "            'id': idx,\n",
    "            'aspect': aspect,\n",
    "            'exp_mean_pol': exp_pol,\n",
    "            'xp_mean_pol': xp_pol,\n",
    "            'semantic_gap': sem_gap,\n",
    "            'sentiment_gap': sent_gap,\n",
    "            'hybrid_gap': hyb_gap,\n",
    "            'overall_satisfaction': overall\n",
    "        })\n",
    "\n",
    "metrics_df = pd.DataFrame(res)\n",
    "metrics_df.head()\n"
   ],
   "id": "b59a7075f652c859",
   "outputs": [
    {
     "data": {
      "text/plain": [
       "   id                  aspect  exp_mean_pol  xp_mean_pol  semantic_gap  \\\n",
       "0   5              mentorship           0.0          0.0           1.0   \n",
       "1   5       technical_support           0.0          0.0           1.0   \n",
       "2   5  learning_opportunities           0.0          0.0           1.0   \n",
       "3   5                workload           0.0          1.0           1.0   \n",
       "4   5      team_collaboration           0.0          0.0           1.0   \n",
       "\n",
       "   sentiment_gap  hybrid_gap  overall_satisfaction  \n",
       "0            0.0         0.6                   NaN  \n",
       "1            0.0         0.6                   NaN  \n",
       "2            0.0         0.6                   NaN  \n",
       "3            1.0         1.0                   NaN  \n",
       "4            0.0         0.6                   NaN  "
      ],
      "text/html": [
       "<div>\n",
       "<style scoped>\n",
       "    .dataframe tbody tr th:only-of-type {\n",
       "        vertical-align: middle;\n",
       "    }\n",
       "\n",
       "    .dataframe tbody tr th {\n",
       "        vertical-align: top;\n",
       "    }\n",
       "\n",
       "    .dataframe thead th {\n",
       "        text-align: right;\n",
       "    }\n",
       "</style>\n",
       "<table border=\"1\" class=\"dataframe\">\n",
       "  <thead>\n",
       "    <tr style=\"text-align: right;\">\n",
       "      <th></th>\n",
       "      <th>id</th>\n",
       "      <th>aspect</th>\n",
       "      <th>exp_mean_pol</th>\n",
       "      <th>xp_mean_pol</th>\n",
       "      <th>semantic_gap</th>\n",
       "      <th>sentiment_gap</th>\n",
       "      <th>hybrid_gap</th>\n",
       "      <th>overall_satisfaction</th>\n",
       "    </tr>\n",
       "  </thead>\n",
       "  <tbody>\n",
       "    <tr>\n",
       "      <th>0</th>\n",
       "      <td>5</td>\n",
       "      <td>mentorship</td>\n",
       "      <td>0.0</td>\n",
       "      <td>0.0</td>\n",
       "      <td>1.0</td>\n",
       "      <td>0.0</td>\n",
       "      <td>0.6</td>\n",
       "      <td>NaN</td>\n",
       "    </tr>\n",
       "    <tr>\n",
       "      <th>1</th>\n",
       "      <td>5</td>\n",
       "      <td>technical_support</td>\n",
       "      <td>0.0</td>\n",
       "      <td>0.0</td>\n",
       "      <td>1.0</td>\n",
       "      <td>0.0</td>\n",
       "      <td>0.6</td>\n",
       "      <td>NaN</td>\n",
       "    </tr>\n",
       "    <tr>\n",
       "      <th>2</th>\n",
       "      <td>5</td>\n",
       "      <td>learning_opportunities</td>\n",
       "      <td>0.0</td>\n",
       "      <td>0.0</td>\n",
       "      <td>1.0</td>\n",
       "      <td>0.0</td>\n",
       "      <td>0.6</td>\n",
       "      <td>NaN</td>\n",
       "    </tr>\n",
       "    <tr>\n",
       "      <th>3</th>\n",
       "      <td>5</td>\n",
       "      <td>workload</td>\n",
       "      <td>0.0</td>\n",
       "      <td>1.0</td>\n",
       "      <td>1.0</td>\n",
       "      <td>1.0</td>\n",
       "      <td>1.0</td>\n",
       "      <td>NaN</td>\n",
       "    </tr>\n",
       "    <tr>\n",
       "      <th>4</th>\n",
       "      <td>5</td>\n",
       "      <td>team_collaboration</td>\n",
       "      <td>0.0</td>\n",
       "      <td>0.0</td>\n",
       "      <td>1.0</td>\n",
       "      <td>0.0</td>\n",
       "      <td>0.6</td>\n",
       "      <td>NaN</td>\n",
       "    </tr>\n",
       "  </tbody>\n",
       "</table>\n",
       "</div>"
      ]
     },
     "execution_count": 40,
     "metadata": {},
     "output_type": "execute_result"
    }
   ],
   "execution_count": 40
  },
  {
   "metadata": {},
   "cell_type": "markdown",
   "source": "## 6. Visualizations\n",
   "id": "ad14b03055338756"
  },
  {
   "metadata": {
    "ExecuteTime": {
     "end_time": "2025-06-15T06:22:49.367010Z",
     "start_time": "2025-06-15T06:22:48.918587Z"
    }
   },
   "cell_type": "code",
   "source": [
    "import matplotlib.pyplot as plt\n",
    "import seaborn as sns\n",
    "\n",
    "sns.set(style=\"whitegrid\")\n",
    "\n",
    "# 6.1 Sentence Type Distribution\n",
    "plt.figure(figsize=(6, 4))\n",
    "sns.countplot(x='sent_type', data=gap_df, order=gap_df['sent_type'].value_counts().index)\n",
    "plt.title(\"Sentence Type Distribution\")\n",
    "plt.xlabel(\"Sentence Type\")\n",
    "plt.ylabel(\"Count\")\n",
    "plt.show()\n",
    "\n",
    "# 6.2 Hybrid Gap Boxplot per Aspect\n",
    "plt.figure(figsize=(12, 6))\n",
    "sns.boxplot(x='aspect', y='hybrid_gap', data=metrics_df, order=metrics_df.groupby('aspect')['hybrid_gap'].median().sort_values().index)\n",
    "plt.title(\"Hybrid Gap per Aspect\")\n",
    "plt.xlabel(\"Aspect\")\n",
    "plt.ylabel(\"Hybrid Gap Score\")\n",
    "plt.xticks(rotation=45, ha='right')\n",
    "plt.show()\n",
    "\n",
    "# 6.3 Correlation Between Overall Satisfaction and Hybrid Gap\n",
    "if 'overall_satisfaction' in metrics_df.columns:\n",
    "    corr = metrics_df['hybrid_gap'].corr(metrics_df['overall_satisfaction'])\n",
    "    print(f\"Pearson correlation (overall_satisfaction vs. hybrid_gap): {corr:.2f}\")\n",
    "\n",
    "    plt.figure(figsize=(6, 4))\n",
    "    sns.scatterplot(x='hybrid_gap', y='overall_satisfaction', data=metrics_df, alpha=0.4)\n",
    "    plt.title(\"Overall Satisfaction vs. Hybrid Gap\")\n",
    "    plt.xlabel(\"Hybrid Gap Score\")\n",
    "    plt.ylabel(\"Overall Satisfaction\")\n",
    "    plt.show()\n",
    "else:\n",
    "    print(\"Column 'overall_satisfaction' not found in metrics_df.\")\n"
   ],
   "id": "c0db7d57e67e1e00",
   "outputs": [
    {
     "data": {
      "text/plain": [
       "<Figure size 600x400 with 1 Axes>"
      ],
      "image/png": "[encoded data removed]"
     },
     "metadata": {},
     "output_type": "display_data"
    },
    {
     "data": {
      "text/plain": [
       "<Figure size 1200x600 with 1 Axes>"
      ],
      "image/png": "[encoded data removed]"
     },
     "metadata": {},
     "output_type": "display_data"
    },
    {
     "name": "stdout",
     "output_type": "stream",
     "text": [
      "Pearson correlation (overall_satisfaction vs. hybrid_gap): nan\n"
     ]
    },
    {
     "data": {
      "text/plain": [
       "<Figure size 600x400 with 1 Axes>"
      ],
      "image/png": "[encoded data removed]"
     },
     "metadata": {},
     "output_type": "display_data"
    }
   ],
   "execution_count": 32
  },
  {
   "metadata": {},
   "cell_type": "markdown",
   "source": "## 7. Save Metrics & Models\n",
   "id": "670278e869aedbb8"
  },
  {
   "metadata": {
    "ExecuteTime": {
     "end_time": "2025-06-15T06:24:32.567920Z",
     "start_time": "2025-06-15T06:24:32.485516Z"
    }
   },
   "cell_type": "code",
   "source": [
    "# save results\n",
    "metrics_df.to_excel(\"gap_analysis_metrics.xlsx\", index=True)\n",
    "# (optional) save alpha for later\n",
    "dump(alpha, \"models/hybrid_gap_alpha.joblib\")\n"
   ],
   "id": "633953e69bd55e08",
   "outputs": [
    {
     "data": {
      "text/plain": [
       "['models/hybrid_gap_alpha.joblib']"
      ]
     },
     "execution_count": 35,
     "metadata": {},
     "output_type": "execute_result"
    }
   ],
   "execution_count": 35
  },
  {
   "metadata": {},
   "cell_type": "code",
   "outputs": [],
   "execution_count": null,
   "source": "",
   "id": "ab70ec0efc42b71f"
  }
 ],
 "metadata": {
  "kernelspec": {
   "display_name": "Python 3",
   "language": "python",
   "name": "python3"
  },
  "language_info": {
   "codemirror_mode": {
    "name": "ipython",
    "version": 2
   },
   "file_extension": ".py",
   "mimetype": "text/x-python",
   "name": "python",
   "nbconvert_exporter": "python",
   "pygments_lexer": "ipython2",
   "version": "2.7.6"
  }
 },
 "nbformat": 4,
 "nbformat_minor": 5
}
