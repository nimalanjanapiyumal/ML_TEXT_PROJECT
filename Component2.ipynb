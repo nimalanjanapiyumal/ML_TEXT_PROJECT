{
 "cells": [
  {
   "metadata": {},
   "cell_type": "markdown",
   "source": "# 03_Component2_Gap_Analysis.ipynb\n",
   "id": "c47a73a182740b84"
  },
  {
   "metadata": {},
   "cell_type": "markdown",
   "source": "## 1. Environment Setup & Imports\n",
   "id": "81e0ffcba6b96584"
  },
  {
   "metadata": {
    "ExecuteTime": {
     "end_time": "2025-06-29T17:26:30.817369Z",
     "start_time": "2025-06-29T17:26:30.801501Z"
    }
   },
   "cell_type": "code",
   "source": [
    "## 1. Environment Setup & Imports\n",
    "\n",
    "import pandas as pd\n",
    "import numpy as np\n",
    "import nltk\n",
    "import torch\n",
    "from transformers import pipeline, AutoTokenizer, AutoModel\n",
    "from sklearn.metrics.pairwise import cosine_similarity\n",
    "import matplotlib.pyplot as plt\n",
    "import seaborn as sns\n",
    "import json\n",
    "from joblib import load, dump\n",
    "\n",
    "# Styling\n",
    "sns.set(style=\"whitegrid\")\n",
    "\n",
    "# Download NLTK data (once)\n",
    "nltk.download('punkt')\n",
    "nltk.download('stopwords')\n"
   ],
   "id": "945f18c975984413",
   "outputs": [
    {
     "name": "stderr",
     "output_type": "stream",
     "text": [
      "[nltk_data] Downloading package punkt to\n",
      "[nltk_data]     C:\\Users\\piyum\\AppData\\Roaming\\nltk_data...\n",
      "[nltk_data]   Package punkt is already up-to-date!\n",
      "[nltk_data] Downloading package stopwords to\n",
      "[nltk_data]     C:\\Users\\piyum\\AppData\\Roaming\\nltk_data...\n",
      "[nltk_data]   Package stopwords is already up-to-date!\n"
     ]
    },
    {
     "data": {
      "text/plain": [
       "True"
      ]
     },
     "execution_count": 13,
     "metadata": {},
     "output_type": "execute_result"
    }
   ],
   "execution_count": 13
  },
  {
   "metadata": {},
   "cell_type": "markdown",
   "source": "## 2. Load Data & Models\n",
   "id": "51b1bcc415917bdd"
  },
  {
   "metadata": {
    "ExecuteTime": {
     "end_time": "2025-06-29T17:31:47.008160Z",
     "start_time": "2025-06-29T17:31:46.002798Z"
    }
   },
   "cell_type": "code",
   "source": [
    "# 03_Component2_Gap_Analysis_TFIDF.ipynb\n",
    "\n",
    "## 1. Environment Setup & Imports\n",
    "\n",
    "import pandas as pd\n",
    "import numpy as np\n",
    "import nltk\n",
    "\n",
    "# Sentiment\n",
    "from nltk.sentiment.vader import SentimentIntensityAnalyzer\n",
    "\n",
    "# Tokenization\n",
    "from nltk.tokenize import sent_tokenize, word_tokenize\n",
    "from nltk.corpus import stopwords\n",
    "\n",
    "# TF-IDF & similarity\n",
    "from sklearn.feature_extraction.text import TfidfVectorizer\n",
    "from sklearn.metrics.pairwise import cosine_similarity\n",
    "\n",
    "# Visualization\n",
    "import matplotlib.pyplot as plt\n",
    "import seaborn as sns\n",
    "\n",
    "# Utilities\n",
    "from joblib import load, dump\n",
    "\n",
    "# Styling\n",
    "sns.set(style=\"whitegrid\")\n",
    "\n",
    "# Download required NLTK data (run once)\n",
    "nltk.download('punkt')\n",
    "nltk.download('vader_lexicon')\n",
    "nltk.download('stopwords')\n",
    "\n",
    "\n",
    "## 2. Load Data & Prepare Resources\n",
    "\n",
    "# 2.1 Preprocessed feedback\n",
    "df = pd.read_excel(\"cleaned_feedback_preprocessed.xlsx\")\n",
    "\n",
    "# 2.2 Inline Aspect Ontology\n",
    "# 2.2 Expanded Inline Aspect Ontology\n",
    "\n",
    "ontology = {\n",
    "    # -------------------------------------------------\n",
    "    # 1. Mentorship & Guidance\n",
    "    # -------------------------------------------------\n",
    "    \"mentorship\": [\n",
    "        \"mentor\", \"supervisor\", \"coach\", \"guide\", \"mentorship\",\n",
    "        \"advice\", \"feedback\", \"direction\", \"support\", \"one_on_one\",\n",
    "        \"pair_programming\", \"shadowing\", \"check_in\", \"guidance\",\n",
    "        \"tutoring\", \"oversight\", \"counsel\", \"help\", \"assistance\"\n",
    "    ],\n",
    "\n",
    "    # -------------------------------------------------\n",
    "    # 2. Technical Support & Tools\n",
    "    # -------------------------------------------------\n",
    "    \"technical_support\": [\n",
    "        \"code\", \"review\", \"debug\", \"assistance\", \"support\", \"ci_cd\",\n",
    "        \"repository\", \"git\", \"docker\", \"kubernetes\", \"jenkins\",\n",
    "        \"documentation\", \"sdk\", \"api\", \"integration\", \"toolchain\",\n",
    "        \"ide\", \"environment\", \"software\", \"hardware\", \"access\",\n",
    "        \"credentials\", \"infrastructure\", \"setup\", \"deployment\"\n",
    "    ],\n",
    "\n",
    "    # -------------------------------------------------\n",
    "    # 3. Learning Opportunities & Training\n",
    "    # -------------------------------------------------\n",
    "    \"learning_opportunities\": [\n",
    "        \"training\", \"workshop\", \"tutorial\", \"learning\", \"session\",\n",
    "        \"seminar\", \"course\", \"webinar\", \"onboarding\", \"bootcamp\",\n",
    "        \"hands_on\", \"self_learning\", \"upskill\", \"knowledge\",\n",
    "        \"skill_building\", \"certification\", \"lecture\", \"e_learning\",\n",
    "        \"demo\", \"example\", \"exercise\"\n",
    "    ],\n",
    "\n",
    "    # -------------------------------------------------\n",
    "    # 4. Workload & Assignments\n",
    "    # -------------------------------------------------\n",
    "    \"workload\": [\n",
    "        \"task\", \"deadline\", \"hours\", \"workload\", \"assignment\",\n",
    "        \"responsibility\", \"project\", \"deliverable\", \"milestone\",\n",
    "        \"time_management\", \"overtime\", \"pace\", \"throughput\",\n",
    "        \"capacity\", \"effort\", \"busy\", \"overwhelmed\", \"underutilized\"\n",
    "    ],\n",
    "\n",
    "    # -------------------------------------------------\n",
    "    # 5. Team Collaboration & Communication\n",
    "    # -------------------------------------------------\n",
    "    \"team_collaboration\": [\n",
    "        \"team\", \"communication\", \"meeting\", \"collaboration\", \"scrum\",\n",
    "        \"stand_up\", \"pairing\", \"brainstorm\", \"discussion\",\n",
    "        \"feedback_loop\", \"mail\", \"chat\", \"slack\", \"jira\", \"confluence\",\n",
    "        \"cross_functional\", \"peer_review\", \"coordination\",\n",
    "        \"rapport\", \"interaction\"\n",
    "    ],\n",
    "\n",
    "    # -------------------------------------------------\n",
    "    # 6. Workplace Environment & Culture\n",
    "    # -------------------------------------------------\n",
    "    \"environment\": [\n",
    "        \"workspace\", \"tools\", \"software\", \"hardware\", \"remote\",\n",
    "        \"office\", \"infrastructure\", \"ergonomics\", \"culture\",\n",
    "        \"atmosphere\", \"facilities\", \"amenities\", \"environment\",\n",
    "        \"comfort\", \"noise\", \"lighting\", \"temperature\", \"space\",\n",
    "        \"cleanliness\", \"accessibility\"\n",
    "    ],\n",
    "\n",
    "    # -------------------------------------------------\n",
    "    # 7. Professional Networking & Culture\n",
    "    # -------------------------------------------------\n",
    "    \"professional_networking\": [\n",
    "        \"networking\", \"event\", \"culture\", \"social\", \"interaction\",\n",
    "        \"community\", \"connections\", \"coffee_chat\", \"lunch\",\n",
    "        \"networking_event\", \"career_fair\", \"meetup\", \"seminar\",\n",
    "        \"conference\", \"alumni\", \"exposure\", \"company_culture\",\n",
    "        \"diversity\", \"inclusion\", \"team_building\"\n",
    "    ],\n",
    "\n",
    "    # -------------------------------------------------\n",
    "    # 8. Career Guidance & Advancement\n",
    "    # -------------------------------------------------\n",
    "    \"career_guidance\": [\n",
    "        \"career\", \"path\", \"feedback\", \"evaluation\", \"progression\",\n",
    "        \"review\", \"promotion\", \"opportunity\", \"growth\",\n",
    "        \"performance_review\", \"advancement\", \"goals\", \"milestones\",\n",
    "        \"future\", \"trajectory\", \"mentorship\", \"coaching\",\n",
    "        \"job_offer\", \"interview\", \"resume_building\"\n",
    "    ]\n",
    "}\n",
    "\n",
    "aspect_categories = list(ontology.keys())\n",
    "\n",
    "# 2.3 Sentiment analyzer\n",
    "sid = SentimentIntensityAnalyzer()\n",
    "\n",
    "# 2.4 Stopwords for token filtering\n",
    "stop_words = set(stopwords.words('english'))\n",
    "# (Add any domain‐specific stopwords if desired)\n"
   ],
   "id": "4b5bf3fb05403566",
   "outputs": [
    {
     "name": "stderr",
     "output_type": "stream",
     "text": [
      "[nltk_data] Downloading package punkt to\n",
      "[nltk_data]     C:\\Users\\piyum\\AppData\\Roaming\\nltk_data...\n",
      "[nltk_data]   Package punkt is already up-to-date!\n",
      "[nltk_data] Downloading package vader_lexicon to\n",
      "[nltk_data]     C:\\Users\\piyum\\AppData\\Roaming\\nltk_data...\n",
      "[nltk_data]   Package vader_lexicon is already up-to-date!\n",
      "[nltk_data] Downloading package stopwords to\n",
      "[nltk_data]     C:\\Users\\piyum\\AppData\\Roaming\\nltk_data...\n",
      "[nltk_data]   Package stopwords is already up-to-date!\n"
     ]
    }
   ],
   "execution_count": 24
  },
  {
   "metadata": {},
   "cell_type": "markdown",
   "source": "## 3. Helper Functions\n",
   "id": "6b27452441e685d0"
  },
  {
   "metadata": {
    "ExecuteTime": {
     "end_time": "2025-06-29T17:31:48.478063Z",
     "start_time": "2025-06-29T17:31:48.449316Z"
    }
   },
   "cell_type": "code",
   "source": [
    "## 3. Helper Functions (Regex‐based tokenization and VADER sentiment)\n",
    "\n",
    "import re\n",
    "from nltk.sentiment.vader import SentimentIntensityAnalyzer\n",
    "\n",
    "# initialize sentiment analyzer\n",
    "sid = SentimentIntensityAnalyzer()\n",
    "\n",
    "def split_sentences(text: str) -> list[str]:\n",
    "    \"\"\"\n",
    "    Split text on sentence delimiters (., !, ?) or line breaks.\n",
    "    Returns non-empty trimmed segments.\n",
    "    \"\"\"\n",
    "    if not isinstance(text, str):\n",
    "        return []\n",
    "    parts = re.split(r'(?<=[\\.\\!\\?])\\s+|\\n+', text)\n",
    "    return [p.strip() for p in parts if p.strip()]\n",
    "\n",
    "def classify_sentence_type(sent: str) -> str:\n",
    "    \"\"\"\n",
    "    Classify a sentence as:\n",
    "      - \"expect\" if it mentions expectation keywords,\n",
    "      - \"experience\" if it mentions experience keywords,\n",
    "      - \"other\" otherwise.\n",
    "    \"\"\"\n",
    "    s = sent.lower()\n",
    "    if re.search(r'\\b(expect|hope|plan|anticipat|want(ed)?|intend)\\b', s):\n",
    "        return \"expect\"\n",
    "    if re.search(r'\\b(found|was|experienced|learned|got|felt|realized|saw)\\b', s):\n",
    "        return \"experience\"\n",
    "    return \"other\"\n",
    "\n",
    "def map_aspects(sent: str) -> list[str]:\n",
    "    \"\"\"\n",
    "    Return list of aspect categories whose lexicon terms appear in the sentence.\n",
    "    Tokenization via regex; matches whole words only.\n",
    "    \"\"\"\n",
    "    if not isinstance(sent, str):\n",
    "        return []\n",
    "    tokens = re.findall(r'\\b[a-zA-Z_]+\\b', sent.lower())\n",
    "    cats = []\n",
    "    for aspect, terms in ontology.items():\n",
    "        for term in terms:\n",
    "            # allow multi-word terms by splitting on underscore\n",
    "            for token in tokens:\n",
    "                if term in token or token in term:\n",
    "                    cats.append(aspect)\n",
    "                    break\n",
    "            else:\n",
    "                continue\n",
    "            break\n",
    "    return cats\n",
    "\n",
    "def sentiment_polarity(sent: str) -> int:\n",
    "    \"\"\"\n",
    "    Compute VADER compound score and map to {-1, 0, +1}.\n",
    "    \"\"\"\n",
    "    if not isinstance(sent, str):\n",
    "        return 0\n",
    "    score = sid.polarity_scores(sent).get(\"compound\", 0.0)\n",
    "    if score >=  0.05:\n",
    "        return  1\n",
    "    if score <= -0.05:\n",
    "        return -1\n",
    "    return 0\n"
   ],
   "id": "f31d1576318b10df",
   "outputs": [],
   "execution_count": 25
  },
  {
   "metadata": {},
   "cell_type": "markdown",
   "source": "## 4. Build Expectation & Experience Sets\n",
   "id": "906b35f186f0def9"
  },
  {
   "metadata": {
    "ExecuteTime": {
     "end_time": "2025-06-29T17:32:24.511737Z",
     "start_time": "2025-06-29T17:32:24.353447Z"
    }
   },
   "cell_type": "code",
   "source": [
    "## 4. Build Expectation & Experience Records\n",
    "\n",
    "import pandas as pd\n",
    "\n",
    "# 4.1 Auto‐detect the main feedback column by average string length\n",
    "string_cols = df.select_dtypes(include='object').columns\n",
    "avg_lengths = (\n",
    "    df[string_cols]\n",
    "    .fillna(\"\")\n",
    "    .astype(str)\n",
    "    .applymap(len)\n",
    "    .mean()\n",
    ")\n",
    "text_col = avg_lengths.idxmax()\n",
    "print(f\"Using `{text_col}` as the feedback text column.\\n\")\n",
    "\n",
    "# 4.2 Build the records list\n",
    "records = []\n",
    "for idx, text in df[text_col].fillna(\"\").astype(str).items():\n",
    "    # split into sentences\n",
    "    for sent in split_sentences(text):\n",
    "        sent_type = classify_sentence_type(sent)\n",
    "        if sent_type == \"other\":\n",
    "            continue\n",
    "        cats = map_aspects(sent)\n",
    "        if not cats:\n",
    "            continue\n",
    "        pol = sentiment_polarity(sent)\n",
    "\n",
    "        # one record per aspect for easier aggregation later\n",
    "        for asp in cats:\n",
    "            records.append({\n",
    "                \"id\": idx,\n",
    "                \"sentence\": sent,\n",
    "                \"sent_type\": sent_type,\n",
    "                \"aspect\": asp,\n",
    "                \"polarity\": pol\n",
    "            })\n",
    "\n",
    "gap_df = pd.DataFrame(records)\n",
    "\n",
    "# 4.3 Inspect results\n",
    "print(\"Sentence type counts:\\n\", gap_df[\"sent_type\"].value_counts())\n",
    "print(\"\\nAspect distribution:\\n\", gap_df[\"aspect\"].value_counts())\n",
    "print(\"\\nColumns in gap_df:\", gap_df.columns.tolist())\n",
    "\n",
    "# 4.4 Save the gap DataFrame for downstream use\n",
    "gap_df.to_excel(\"gap_analysis_records.xlsx\", index=False)\n",
    "print(\"Saved detailed gap records to gap_analysis_records.xlsx\")\n"
   ],
   "id": "4272c56335219625",
   "outputs": [
    {
     "name": "stdout",
     "output_type": "stream",
     "text": [
      "Using `overall_comment_about_the_industrial_training` as the feedback text column.\n",
      "\n",
      "Sentence type counts:\n",
      " sent_type\n",
      "experience    608\n",
      "expect         78\n",
      "Name: count, dtype: int64\n",
      "\n",
      "Aspect distribution:\n",
      " aspect\n",
      "learning_opportunities     91\n",
      "technical_support          87\n",
      "team_collaboration         87\n",
      "environment                86\n",
      "career_guidance            85\n",
      "workload                   85\n",
      "mentorship                 83\n",
      "professional_networking    82\n",
      "Name: count, dtype: int64\n",
      "\n",
      "Columns in gap_df: ['id', 'sentence', 'sent_type', 'aspect', 'polarity']\n",
      "Saved detailed gap records to gap_analysis_records.xlsx\n"
     ]
    },
    {
     "name": "stderr",
     "output_type": "stream",
     "text": [
      "C:\\Users\\piyum\\AppData\\Local\\Temp\\ipykernel_16176\\1595237654.py:8: FutureWarning: DataFrame.applymap has been deprecated. Use DataFrame.map instead.\n",
      "  df[string_cols]\n"
     ]
    }
   ],
   "execution_count": 27
  },
  {
   "metadata": {},
   "cell_type": "markdown",
   "source": "## 5. Compute Per-Aspect Metrics per Intern\n",
   "id": "3f47ac8491b2e64d"
  },
  {
   "metadata": {
    "ExecuteTime": {
     "end_time": "2025-06-29T17:33:48.402606Z",
     "start_time": "2025-06-29T17:33:46.415964Z"
    }
   },
   "cell_type": "code",
   "source": [
    "## 5. Compute Per-Aspect Discrepancy Metrics (TF–IDF + Sentiment)\n",
    "\n",
    "import numpy as np\n",
    "from sklearn.feature_extraction.text import TfidfVectorizer\n",
    "from sklearn.metrics.pairwise import cosine_similarity\n",
    "\n",
    "# 5.1 Fit TF-IDF on all extracted sentences\n",
    "tfidf = TfidfVectorizer()\n",
    "tfidf.fit(gap_df['sentence'])\n",
    "\n",
    "res = []\n",
    "alpha = 0.6  # weight for semantic vs. sentiment\n",
    "\n",
    "for idx, grp in gap_df.groupby('id'):\n",
    "    # overall satisfaction if available\n",
    "    overall = df.at[idx, 'overall_satisfaction'] if 'overall_satisfaction' in df.columns else np.nan\n",
    "\n",
    "    for aspect in aspect_categories:\n",
    "        # filter records for this aspect\n",
    "        sub = grp[grp['aspect'] == aspect]\n",
    "\n",
    "        # 5.2 Expectation sentences\n",
    "        exp_sents = sub[sub['sent_type'] == 'expect']['sentence'].tolist()\n",
    "        if exp_sents:\n",
    "            exp_mat = tfidf.transform(exp_sents)\n",
    "            exp_cent = np.asarray(exp_mat.mean(axis=0)).ravel()\n",
    "            exp_pol = sub[sub['sent_type'] == 'expect']['polarity'].mean()\n",
    "        else:\n",
    "            exp_cent = np.zeros(tfidf.transform(['']).shape[1])\n",
    "            exp_pol = 0.0\n",
    "\n",
    "        # 5.3 Experience sentences\n",
    "        xp_sents = sub[sub['sent_type'] == 'experience']['sentence'].tolist()\n",
    "        if xp_sents:\n",
    "            xp_mat = tfidf.transform(xp_sents)\n",
    "            xp_cent = np.asarray(xp_mat.mean(axis=0)).ravel()\n",
    "            xp_pol = sub[sub['sent_type'] == 'experience']['polarity'].mean()\n",
    "        else:\n",
    "            xp_cent = np.zeros(tfidf.transform(['']).shape[1])\n",
    "            xp_pol = 0.0\n",
    "\n",
    "        # 5.4 Semantic gap\n",
    "        sim = cosine_similarity([exp_cent], [xp_cent])[0, 0]\n",
    "        sem_gap = 1 - sim\n",
    "\n",
    "        # 5.5 Sentiment gap\n",
    "        sent_gap = xp_pol - exp_pol\n",
    "\n",
    "        # 5.6 Hybrid gap\n",
    "        hyb_gap = alpha * sem_gap + (1 - alpha) * abs(sent_gap)\n",
    "\n",
    "        res.append({\n",
    "            'id': idx,\n",
    "            'aspect': aspect,\n",
    "            'exp_mean_polarity': exp_pol,\n",
    "            'xp_mean_polarity': xp_pol,\n",
    "            'semantic_gap': sem_gap,\n",
    "            'sentiment_gap': sent_gap,\n",
    "            'hybrid_gap': hyb_gap,\n",
    "            'overall_satisfaction': overall\n",
    "        })\n",
    "\n",
    "metrics_df = pd.DataFrame(res)\n",
    "\n",
    "# 5.7 Inspect the top rows\n",
    "print(metrics_df.head())\n",
    "\n",
    "# 5.8 Save metrics to Excel\n",
    "metrics_df.to_excel(\"gap_analysis_metrics_tfidf.xlsx\", index=False)\n",
    "print(\"Saved per-aspect discrepancy metrics to gap_analysis_metrics_tfidf.xlsx\")\n"
   ],
   "id": "b59a7075f652c859",
   "outputs": [
    {
     "name": "stdout",
     "output_type": "stream",
     "text": [
      "   id                  aspect  exp_mean_polarity  xp_mean_polarity  \\\n",
      "0   4              mentorship                0.0               0.0   \n",
      "1   4       technical_support                0.0               0.0   \n",
      "2   4  learning_opportunities                0.0               1.0   \n",
      "3   4                workload                0.0               1.0   \n",
      "4   4      team_collaboration                0.0               0.0   \n",
      "\n",
      "   semantic_gap  sentiment_gap  hybrid_gap  overall_satisfaction  \n",
      "0           1.0            0.0         0.6                   NaN  \n",
      "1           1.0            0.0         0.6                   NaN  \n",
      "2           1.0            1.0         1.0                   NaN  \n",
      "3           1.0            1.0         1.0                   NaN  \n",
      "4           1.0            0.0         0.6                   NaN  \n",
      "Saved per-aspect discrepancy metrics to gap_analysis_metrics_tfidf.xlsx\n"
     ]
    }
   ],
   "execution_count": 29
  },
  {
   "metadata": {},
   "cell_type": "markdown",
   "source": "## 6. Visualizations\n",
   "id": "ad14b03055338756"
  },
  {
   "metadata": {
    "ExecuteTime": {
     "end_time": "2025-06-29T17:35:24.824110Z",
     "start_time": "2025-06-29T17:35:23.536941Z"
    }
   },
   "cell_type": "code",
   "source": [
    "# 6. Visualizations & Save Plots\n",
    "\n",
    "import matplotlib.pyplot as plt\n",
    "import seaborn as sns\n",
    "\n",
    "sns.set(style=\"whitegrid\")\n",
    "\n",
    "# 6.1 Sentence Type Distribution\n",
    "plt.figure(figsize=(6, 4))\n",
    "order = gap_df['sent_type'].value_counts().index\n",
    "ax = sns.countplot(x='sent_type', data=gap_df, order=order)\n",
    "ax.set_title(\"Sentence Type Distribution\")\n",
    "ax.set_xlabel(\"Sentence Type\")\n",
    "ax.set_ylabel(\"Count\")\n",
    "plt.tight_layout()\n",
    "plt.savefig(\"sentence_type_distribution.png\", dpi=300)\n",
    "plt.show()\n",
    "\n",
    "# 6.2 Hybrid Gap Boxplot per Aspect\n",
    "plt.figure(figsize=(12, 6))\n",
    "aspect_order = metrics_df.groupby('aspect')['hybrid_gap'].median().sort_values().index\n",
    "ax = sns.boxplot(\n",
    "    x='aspect',\n",
    "    y='hybrid_gap',\n",
    "    data=metrics_df,\n",
    "    order=aspect_order\n",
    ")\n",
    "ax.set_title(\"Hybrid Gap per Aspect\")\n",
    "ax.set_xlabel(\"Aspect\")\n",
    "ax.set_ylabel(\"Hybrid Gap Score\")\n",
    "plt.xticks(rotation=45, ha='right')\n",
    "plt.tight_layout()\n",
    "plt.savefig(\"hybrid_gap_per_aspect.png\", dpi=300)\n",
    "plt.show()\n",
    "\n",
    "# 6.3 Correlation Between Overall Satisfaction and Hybrid Gap\n",
    "if 'overall_satisfaction' in metrics_df.columns:\n",
    "    corr = metrics_df['hybrid_gap'].corr(metrics_df['overall_satisfaction'])\n",
    "    print(f\"Pearson correlation (overall_satisfaction vs. hybrid_gap): {corr:.2f}\")\n",
    "\n",
    "    plt.figure(figsize=(6, 4))\n",
    "    ax = sns.scatterplot(\n",
    "        x='hybrid_gap',\n",
    "        y='overall_satisfaction',\n",
    "        data=metrics_df,\n",
    "        alpha=0.4\n",
    "    )\n",
    "    ax.set_title(\"Overall Satisfaction vs. Hybrid Gap\")\n",
    "    ax.set_xlabel(\"Hybrid Gap Score\")\n",
    "    ax.set_ylabel(\"Overall Satisfaction\")\n",
    "    plt.tight_layout()\n",
    "    plt.savefig(\"satisfaction_vs_hybrid_gap.png\", dpi=300)\n",
    "    plt.show()\n",
    "else:\n",
    "    print(\"Column 'overall_satisfaction' not found in metrics_df.\")\n"
   ],
   "id": "c0db7d57e67e1e00",
   "outputs": [
    {
     "data": {
      "text/plain": [
       "<Figure size 600x400 with 1 Axes>"
      ],
      "image/png": "[encoded data removed]"
     },
     "metadata": {},
     "output_type": "display_data"
    },
    {
     "data": {
      "text/plain": [
       "<Figure size 1200x600 with 1 Axes>"
      ],
      "image/png": "[encoded data removed]"
     },
     "metadata": {},
     "output_type": "display_data"
    },
    {
     "name": "stdout",
     "output_type": "stream",
     "text": [
      "Pearson correlation (overall_satisfaction vs. hybrid_gap): nan\n"
     ]
    },
    {
     "data": {
      "text/plain": [
       "<Figure size 600x400 with 1 Axes>"
      ],
      "image/png": "[encoded data removed]"
     },
     "metadata": {},
     "output_type": "display_data"
    }
   ],
   "execution_count": 30
  },
  {
   "metadata": {},
   "cell_type": "markdown",
   "source": "## 7. Save Metrics & Models\n",
   "id": "670278e869aedbb8"
  },
  {
   "metadata": {
    "ExecuteTime": {
     "end_time": "2025-06-29T17:35:34.450366Z",
     "start_time": "2025-06-29T17:35:34.305984Z"
    }
   },
   "cell_type": "code",
   "source": [
    "# save results\n",
    "metrics_df.to_excel(\"gap_analysis_metrics.xlsx\", index=True)\n",
    "# (optional) save alpha for later\n",
    "dump(alpha, \"models/hybrid_gap_alpha.joblib\")\n"
   ],
   "id": "633953e69bd55e08",
   "outputs": [
    {
     "data": {
      "text/plain": [
       "['models/hybrid_gap_alpha.joblib']"
      ]
     },
     "execution_count": 31,
     "metadata": {},
     "output_type": "execute_result"
    }
   ],
   "execution_count": 31
  },
  {
   "metadata": {},
   "cell_type": "code",
   "outputs": [],
   "execution_count": null,
   "source": "",
   "id": "ab70ec0efc42b71f"
  }
 ],
 "metadata": {
  "kernelspec": {
   "display_name": "Python 3",
   "language": "python",
   "name": "python3"
  },
  "language_info": {
   "codemirror_mode": {
    "name": "ipython",
    "version": 2
   },
   "file_extension": ".py",
   "mimetype": "text/x-python",
   "name": "python",
   "nbconvert_exporter": "python",
   "pygments_lexer": "ipython2",
   "version": "2.7.6"
  }
 },
 "nbformat": 4,
 "nbformat_minor": 5
}
