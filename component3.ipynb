{
 "cells": [
  {
   "metadata": {},
   "cell_type": "markdown",
   "source": [
    "# 04_Component3_Persona_Clustering.ipynb\n",
    "\n"
   ],
   "id": "3e5d6be01dad9a4b"
  },
  {
   "metadata": {},
   "cell_type": "markdown",
   "source": "## 1. Environment Setup & Imports\n",
   "id": "15c50f672381275c"
  },
  {
   "metadata": {
    "ExecuteTime": {
     "end_time": "2025-06-29T15:15:15.032826Z",
     "start_time": "2025-06-29T15:15:14.890217Z"
    }
   },
   "cell_type": "code",
   "source": [
    "import pandas as pd\n",
    "import numpy as np\n",
    "import matplotlib.pyplot as plt\n",
    "import seaborn as sns\n",
    "\n",
    "from sklearn.preprocessing import MinMaxScaler\n",
    "\n",
    "sns.set(style=\"whitegrid\")"
   ],
   "id": "1ac4a21f94811e97",
   "outputs": [],
   "execution_count": 1
  },
  {
   "metadata": {},
   "cell_type": "markdown",
   "source": "## 2. Load Data & Precomputed Metrics\n",
   "id": "71d4de038c4dfc3c"
  },
  {
   "metadata": {
    "ExecuteTime": {
     "end_time": "2025-06-29T17:40:26.107342Z",
     "start_time": "2025-06-29T17:40:25.890630Z"
    }
   },
   "cell_type": "code",
   "source": [
    "# ABSA sentiment averages per provider\n",
    "# Expect a DataFrame with columns: provider_id, aspect, avg_sentiment\n",
    "sent_df = pd.read_excel(\"absa_aspect_sentiment.xlsx\") \\\n",
    "             .groupby(['record_id','aspect_category'])['polarity'] \\\n",
    "             .mean() \\\n",
    "             .unstack(fill_value=0)\n",
    "\n",
    "# Gap metrics per provider\n",
    "# Columns: provider_id, aspect, hybrid_gap\n",
    "gap_df = pd.read_excel(\"gap_analysis_metrics.xlsx\") \\\n",
    "            .groupby(['id','aspect'])['hybrid_gap'] \\\n",
    "            .mean() \\\n",
    "            .unstack(fill_value=0)\n",
    "\n",
    "# Optional: overall satisfaction per provider\n",
    "sat_df = pd.read_excel(\"gap_analysis_metrics.xlsx\") \\\n",
    "            .groupby('id')['overall_satisfaction'] \\\n",
    "            .mean()"
   ],
   "id": "ad06d726f5d05422",
   "outputs": [],
   "execution_count": 5
  },
  {
   "metadata": {},
   "cell_type": "markdown",
   "source": "## 3. Combine into Provider‐Feature Matrix\n",
   "id": "260891a6f5342f6e"
  },
  {
   "metadata": {
    "ExecuteTime": {
     "end_time": "2025-06-29T17:40:28.216122Z",
     "start_time": "2025-06-29T17:40:28.169136Z"
    }
   },
   "cell_type": "code",
   "source": [
    "# rename gap columns to indicate lower-is-better\n",
    "gap_df = gap_df.add_prefix('gap_')\n",
    "sent_df = sent_df.add_prefix('sent_')\n",
    "\n",
    "# merge\n",
    "providers = sent_df.join(gap_df, how='outer').fillna(0)\n",
    "providers['overall_satisfaction'] = sat_df\n",
    "providers.head()"
   ],
   "id": "2bfe6965a36476e4",
   "outputs": [
    {
     "data": {
      "text/plain": [
       "    sent_environment  sent_learning_opportunities  sent_mentorship  \\\n",
       "4                0.0                          0.0              0.0   \n",
       "48               0.0                          0.0              0.0   \n",
       "56               0.0                          0.0              0.0   \n",
       "71               0.0                          0.0              0.0   \n",
       "96               0.0                          0.0              0.0   \n",
       "\n",
       "    sent_professional_networking  sent_team_collaboration  \\\n",
       "4                            0.0                      0.0   \n",
       "48                           0.0                      0.0   \n",
       "56                           0.0                      0.0   \n",
       "71                           0.0                      1.0   \n",
       "96                           0.0                      1.0   \n",
       "\n",
       "    sent_technical_support  sent_workload  gap_career_guidance  \\\n",
       "4                      0.0            0.0                  0.6   \n",
       "48                     0.0            0.0                  1.0   \n",
       "56                     0.0            0.0                  1.0   \n",
       "71                     0.0            0.0                  0.0   \n",
       "96                     0.0            0.0                  0.0   \n",
       "\n",
       "    gap_environment  gap_learning_opportunities  gap_mentorship  \\\n",
       "4               0.6                         1.0             0.6   \n",
       "48              1.0                         1.0             1.0   \n",
       "56              1.0                         1.0             1.0   \n",
       "71              0.0                         0.0             0.0   \n",
       "96              0.0                         0.0             0.0   \n",
       "\n",
       "    gap_professional_networking  gap_team_collaboration  \\\n",
       "4                           0.6                     0.6   \n",
       "48                          0.6                     1.0   \n",
       "56                          1.0                     1.0   \n",
       "71                          0.0                     0.0   \n",
       "96                          0.0                     0.0   \n",
       "\n",
       "    gap_technical_support  gap_workload  overall_satisfaction  \n",
       "4                     0.6           1.0                   NaN  \n",
       "48                    1.0           1.0                   NaN  \n",
       "56                    1.0           1.0                   NaN  \n",
       "71                    0.0           0.0                   NaN  \n",
       "96                    0.0           0.0                   NaN  "
      ],
      "text/html": [
       "<div>\n",
       "<style scoped>\n",
       "    .dataframe tbody tr th:only-of-type {\n",
       "        vertical-align: middle;\n",
       "    }\n",
       "\n",
       "    .dataframe tbody tr th {\n",
       "        vertical-align: top;\n",
       "    }\n",
       "\n",
       "    .dataframe thead th {\n",
       "        text-align: right;\n",
       "    }\n",
       "</style>\n",
       "<table border=\"1\" class=\"dataframe\">\n",
       "  <thead>\n",
       "    <tr style=\"text-align: right;\">\n",
       "      <th></th>\n",
       "      <th>sent_environment</th>\n",
       "      <th>sent_learning_opportunities</th>\n",
       "      <th>sent_mentorship</th>\n",
       "      <th>sent_professional_networking</th>\n",
       "      <th>sent_team_collaboration</th>\n",
       "      <th>sent_technical_support</th>\n",
       "      <th>sent_workload</th>\n",
       "      <th>gap_career_guidance</th>\n",
       "      <th>gap_environment</th>\n",
       "      <th>gap_learning_opportunities</th>\n",
       "      <th>gap_mentorship</th>\n",
       "      <th>gap_professional_networking</th>\n",
       "      <th>gap_team_collaboration</th>\n",
       "      <th>gap_technical_support</th>\n",
       "      <th>gap_workload</th>\n",
       "      <th>overall_satisfaction</th>\n",
       "    </tr>\n",
       "  </thead>\n",
       "  <tbody>\n",
       "    <tr>\n",
       "      <th>4</th>\n",
       "      <td>0.0</td>\n",
       "      <td>0.0</td>\n",
       "      <td>0.0</td>\n",
       "      <td>0.0</td>\n",
       "      <td>0.0</td>\n",
       "      <td>0.0</td>\n",
       "      <td>0.0</td>\n",
       "      <td>0.6</td>\n",
       "      <td>0.6</td>\n",
       "      <td>1.0</td>\n",
       "      <td>0.6</td>\n",
       "      <td>0.6</td>\n",
       "      <td>0.6</td>\n",
       "      <td>0.6</td>\n",
       "      <td>1.0</td>\n",
       "      <td>NaN</td>\n",
       "    </tr>\n",
       "    <tr>\n",
       "      <th>48</th>\n",
       "      <td>0.0</td>\n",
       "      <td>0.0</td>\n",
       "      <td>0.0</td>\n",
       "      <td>0.0</td>\n",
       "      <td>0.0</td>\n",
       "      <td>0.0</td>\n",
       "      <td>0.0</td>\n",
       "      <td>1.0</td>\n",
       "      <td>1.0</td>\n",
       "      <td>1.0</td>\n",
       "      <td>1.0</td>\n",
       "      <td>0.6</td>\n",
       "      <td>1.0</td>\n",
       "      <td>1.0</td>\n",
       "      <td>1.0</td>\n",
       "      <td>NaN</td>\n",
       "    </tr>\n",
       "    <tr>\n",
       "      <th>56</th>\n",
       "      <td>0.0</td>\n",
       "      <td>0.0</td>\n",
       "      <td>0.0</td>\n",
       "      <td>0.0</td>\n",
       "      <td>0.0</td>\n",
       "      <td>0.0</td>\n",
       "      <td>0.0</td>\n",
       "      <td>1.0</td>\n",
       "      <td>1.0</td>\n",
       "      <td>1.0</td>\n",
       "      <td>1.0</td>\n",
       "      <td>1.0</td>\n",
       "      <td>1.0</td>\n",
       "      <td>1.0</td>\n",
       "      <td>1.0</td>\n",
       "      <td>NaN</td>\n",
       "    </tr>\n",
       "    <tr>\n",
       "      <th>71</th>\n",
       "      <td>0.0</td>\n",
       "      <td>0.0</td>\n",
       "      <td>0.0</td>\n",
       "      <td>0.0</td>\n",
       "      <td>1.0</td>\n",
       "      <td>0.0</td>\n",
       "      <td>0.0</td>\n",
       "      <td>0.0</td>\n",
       "      <td>0.0</td>\n",
       "      <td>0.0</td>\n",
       "      <td>0.0</td>\n",
       "      <td>0.0</td>\n",
       "      <td>0.0</td>\n",
       "      <td>0.0</td>\n",
       "      <td>0.0</td>\n",
       "      <td>NaN</td>\n",
       "    </tr>\n",
       "    <tr>\n",
       "      <th>96</th>\n",
       "      <td>0.0</td>\n",
       "      <td>0.0</td>\n",
       "      <td>0.0</td>\n",
       "      <td>0.0</td>\n",
       "      <td>1.0</td>\n",
       "      <td>0.0</td>\n",
       "      <td>0.0</td>\n",
       "      <td>0.0</td>\n",
       "      <td>0.0</td>\n",
       "      <td>0.0</td>\n",
       "      <td>0.0</td>\n",
       "      <td>0.0</td>\n",
       "      <td>0.0</td>\n",
       "      <td>0.0</td>\n",
       "      <td>0.0</td>\n",
       "      <td>NaN</td>\n",
       "    </tr>\n",
       "  </tbody>\n",
       "</table>\n",
       "</div>"
      ]
     },
     "execution_count": 6,
     "metadata": {},
     "output_type": "execute_result"
    }
   ],
   "execution_count": 6
  },
  {
   "metadata": {},
   "cell_type": "markdown",
   "source": "## 4. Student Preference Input\n",
   "id": "4b14db2afffc692b"
  },
  {
   "metadata": {
    "ExecuteTime": {
     "end_time": "2025-06-29T17:43:36.475530Z",
     "start_time": "2025-06-29T17:43:36.443783Z"
    }
   },
   "cell_type": "code",
   "source": [
    "# Predefined importance weights for each aspect (sum to 1)\n",
    "# Adjust these values based on stakeholder input or domain priorities\n",
    "\n",
    "weights = {\n",
    "    'mentorship':             0.20,  # strong emphasis on quality of mentorship\n",
    "    'workload':               0.10,  # moderate concern for workload balance\n",
    "    'learning_opportunities': 0.25,  # highest priority on hands‑on learning\n",
    "    'environment':            0.10,  # comfort and tools matter moderately\n",
    "    'team_collaboration':     0.15,  # importance of good teamwork and communication\n",
    "    'professional_networking':0.10,  # value of building a professional network\n",
    "    'career_guidance':        0.10   # need for feedback on career progression\n",
    "}\n",
    "\n",
    "# Normalize just to be safe\n",
    "total = sum(weights.values())\n",
    "weights = {asp: w/total for asp, w in weights.items()}\n",
    "\n",
    "print(\"Using predefined, normalized weights:\")\n",
    "for asp, w in weights.items():\n",
    "    print(f\"  {asp:25s}: {w:.2f}\")\n"
   ],
   "id": "15f244a53bfec02e",
   "outputs": [
    {
     "name": "stdout",
     "output_type": "stream",
     "text": [
      "Using predefined, normalized weights:\n",
      "  mentorship               : 0.20\n",
      "  workload                 : 0.10\n",
      "  learning_opportunities   : 0.25\n",
      "  environment              : 0.10\n",
      "  team_collaboration       : 0.15\n",
      "  professional_networking  : 0.10\n",
      "  career_guidance          : 0.10\n"
     ]
    }
   ],
   "execution_count": 11
  },
  {
   "metadata": {},
   "cell_type": "markdown",
   "source": "## 5. Scoring Model (Weighted Aggregation)\n",
   "id": "b00e68690c723839"
  },
  {
   "metadata": {
    "ExecuteTime": {
     "end_time": "2025-06-29T17:53:54.547807Z",
     "start_time": "2025-06-29T17:53:54.515895Z"
    }
   },
   "cell_type": "code",
   "source": [
    "# 5.1 Prepare a DataFrame of normalized features (robust to missing columns)\n",
    "\n",
    "from sklearn.preprocessing import MinMaxScaler\n",
    "import numpy as np\n",
    "\n",
    "# Work on a copy\n",
    "feat = providers.copy()\n",
    "\n",
    "# 5.1 Identify which sentiment/gap columns actually exist\n",
    "sent_cols = [col for col in feat.columns if col.startswith(\"sent_\") and col.split(\"sent_\")[1] in aspects]\n",
    "gap_cols = [col for col in feat.columns if col.startswith(\"gap_\") and col.split(\"gap_\")[1] in aspects]\n",
    "\n",
    "print(\"Found sentiment columns:\", sent_cols)\n",
    "print(\"Found gap columns     :\", gap_cols)\n",
    "\n",
    "# 5.2 Normalize sentiment features to [0,1] if any\n",
    "if sent_cols:\n",
    "    scaler_sent = MinMaxScaler()\n",
    "    feat[sent_cols] = scaler_sent.fit_transform(feat[sent_cols])\n",
    "\n",
    "# 5.3 Normalize gap features to [0,1] and invert if any\n",
    "if gap_cols:\n",
    "    scaler_gap = MinMaxScaler()\n",
    "    feat[gap_cols] = scaler_gap.fit_transform(feat[gap_cols])\n",
    "    feat[gap_cols] = 1.0 - feat[gap_cols]\n",
    "\n",
    "## 5.4 Compute Recommendation Scores (Weighted Aggregation)\n",
    "\n",
    "# Build combined feature list in weight order\n",
    "combined_cols = []\n",
    "for asp in aspects:\n",
    "    col = f\"sent_{asp}\"\n",
    "    if col in feat.columns:\n",
    "        combined_cols.append(col)\n",
    "for asp in aspects:\n",
    "    col = f\"gap_{asp}\"\n",
    "    if col in feat.columns:\n",
    "        combined_cols.append(col)\n",
    "\n",
    "# Build corresponding weight vector\n",
    "weights_list = []\n",
    "for asp in aspects:\n",
    "    if f\"sent_{asp}\" in combined_cols:\n",
    "        weights_list.append(weights[asp])\n",
    "for asp in aspects:\n",
    "    if f\"gap_{asp}\" in combined_cols:\n",
    "        weights_list.append(weights[asp])\n",
    "\n",
    "# Compute dot product\n",
    "X = feat[combined_cols].values\n",
    "w = np.array(weights_list)\n",
    "feat['recommendation_score'] = X.dot(w)\n",
    "\n",
    "## 5.5 Display Top Recommendations\n",
    "\n",
    "top_recs = feat[['recommendation_score']].sort_values(\n",
    "    by='recommendation_score', ascending=False\n",
    ").head(10)\n",
    "print(top_recs)\n"
   ],
   "id": "88202d0d0f92bbb1",
   "outputs": [
    {
     "name": "stdout",
     "output_type": "stream",
     "text": [
      "Found sentiment columns: ['sent_environment', 'sent_learning_opportunities', 'sent_mentorship', 'sent_professional_networking', 'sent_team_collaboration', 'sent_workload']\n",
      "Found gap columns     : ['gap_career_guidance', 'gap_environment', 'gap_learning_opportunities', 'gap_mentorship', 'gap_professional_networking', 'gap_team_collaboration', 'gap_workload']\n",
      "      recommendation_score\n",
      "612                   1.45\n",
      "338                   1.45\n",
      "188                   1.35\n",
      "324                   1.35\n",
      "685                   1.35\n",
      "847                   1.30\n",
      "146                   1.25\n",
      "234                   1.25\n",
      "1002                  1.25\n",
      "1005                  1.25\n"
     ]
    }
   ],
   "execution_count": 15
  },
  {
   "metadata": {},
   "cell_type": "markdown",
   "source": "## 6. Explanations & Top Reasons\n",
   "id": "e13b8225c3631506"
  },
  {
   "metadata": {
    "ExecuteTime": {
     "end_time": "2025-06-29T17:54:32.586238Z",
     "start_time": "2025-06-29T17:54:32.554273Z"
    }
   },
   "cell_type": "code",
   "source": [
    "def explain(record_id, top_n=3):\n",
    "    \"\"\"\n",
    "    For a given record (or provider) ID, compute the top_n aspects contributing\n",
    "    to its recommendation_score and return formatted explanation lines.\n",
    "    \"\"\"\n",
    "    row = feat.loc[record_id]\n",
    "    contribs = {}\n",
    "\n",
    "    # consider only aspects that have both sentiment and gap columns present\n",
    "    for asp in aspects:\n",
    "        sent_col = f\"sent_{asp}\"\n",
    "        gap_col  = f\"gap_{asp}\"\n",
    "        if sent_col in row.index and gap_col in row.index:\n",
    "            contrib = weights[asp] * (row[sent_col] + row[gap_col])\n",
    "            contribs[asp] = contrib\n",
    "\n",
    "    # sort by contribution descending and take top_n\n",
    "    top_aspects = sorted(contribs.items(), key=lambda x: x[1], reverse=True)[:top_n]\n",
    "\n",
    "    # format explanation lines\n",
    "    lines = [f\"{asp}: weight={weights[asp]:.2f}, \" \\\n",
    "             f\"sentiment={row[f'sent_{asp}']:.2f}, gap={row[f'gap_{asp}']:.2f}, \" \\\n",
    "             f\"contrib={score:.2f}\"\n",
    "             for asp, score in top_aspects]\n",
    "    return \"\\n\".join(lines)\n",
    "\n",
    "# Example usage for top-3 recommended records\n",
    "top3 = feat['recommendation_score'].nlargest(3).index\n",
    "for rid in top3:\n",
    "    print(f\"Record {rid} → recommendation_score = {feat.at[rid,'recommendation_score']:.2f}\")\n",
    "    print(\"Top contributing aspects:\")\n",
    "    print(explain(rid, top_n=3))\n",
    "    print(\"-\" * 40)\n"
   ],
   "id": "f8638410d1348db8",
   "outputs": [
    {
     "name": "stdout",
     "output_type": "stream",
     "text": [
      "Record 338 → recommendation_score = 1.45\n",
      "Top contributing aspects:\n",
      "learning_opportunities: weight=0.25, sentiment=1.00, gap=1.00, contrib=0.50\n",
      "mentorship: weight=0.20, sentiment=1.00, gap=1.00, contrib=0.40\n",
      "team_collaboration: weight=0.15, sentiment=0.00, gap=1.00, contrib=0.15\n",
      "----------------------------------------\n",
      "Record 612 → recommendation_score = 1.45\n",
      "Top contributing aspects:\n",
      "learning_opportunities: weight=0.25, sentiment=1.00, gap=1.00, contrib=0.50\n",
      "mentorship: weight=0.20, sentiment=1.00, gap=1.00, contrib=0.40\n",
      "team_collaboration: weight=0.15, sentiment=0.00, gap=1.00, contrib=0.15\n",
      "----------------------------------------\n",
      "Record 188 → recommendation_score = 1.35\n",
      "Top contributing aspects:\n",
      "mentorship: weight=0.20, sentiment=1.00, gap=1.00, contrib=0.40\n",
      "team_collaboration: weight=0.15, sentiment=1.00, gap=1.00, contrib=0.30\n",
      "learning_opportunities: weight=0.25, sentiment=0.00, gap=1.00, contrib=0.25\n",
      "----------------------------------------\n"
     ]
    }
   ],
   "execution_count": 16
  },
  {
   "metadata": {},
   "cell_type": "markdown",
   "source": "## 7. Visualization of Ranked Providers\n",
   "id": "b2e69669541f6621"
  },
  {
   "metadata": {
    "ExecuteTime": {
     "end_time": "2025-06-29T17:55:00.069290Z",
     "start_time": "2025-06-29T17:54:59.766770Z"
    }
   },
   "cell_type": "code",
   "source": [
    "# Visualize Top 10 Recommendations\n",
    "\n",
    "plt.figure(figsize=(8, 5))\n",
    "# Prepare top 10 records\n",
    "top10 = feat['recommendation_score'].nlargest(10).reset_index()\n",
    "top10.columns = ['record_id', 'recommendation_score']\n",
    "\n",
    "# Bar plot\n",
    "sns.barplot(\n",
    "    data=top10,\n",
    "    x='recommendation_score',\n",
    "    y='record_id',\n",
    "    palette='viridis'\n",
    ")\n",
    "plt.title(\"Top 10 Recommended Internship Records\")\n",
    "plt.xlabel(\"Recommendation Score\")\n",
    "plt.ylabel(\"Record ID\")\n",
    "plt.tight_layout()\n",
    "plt.show()\n"
   ],
   "id": "8cb21eb760d43efc",
   "outputs": [
    {
     "name": "stderr",
     "output_type": "stream",
     "text": [
      "C:\\Users\\piyum\\AppData\\Local\\Temp\\ipykernel_14392\\824298451.py:9: FutureWarning: \n",
      "\n",
      "Passing `palette` without assigning `hue` is deprecated and will be removed in v0.14.0. Assign the `x` variable to `hue` and set `legend=False` for the same effect.\n",
      "\n",
      "  sns.barplot(\n"
     ]
    },
    {
     "data": {
      "text/plain": [
       "<Figure size 800x500 with 1 Axes>"
      ],
      "image/png": "[encoded data removed]"
     },
     "metadata": {},
     "output_type": "display_data"
    }
   ],
   "execution_count": 17
  },
  {
   "metadata": {},
   "cell_type": "markdown",
   "source": "## 8. Save Recommendation Engine\n",
   "id": "840210aa6c4bcda0"
  },
  {
   "metadata": {
    "ExecuteTime": {
     "end_time": "2025-06-29T17:55:10.653810Z",
     "start_time": "2025-06-29T17:55:10.574254Z"
    }
   },
   "cell_type": "code",
   "source": "feat.to_excel(\"provider_scores_and_features.xlsx\")",
   "id": "e0ffc57fb39b4f04",
   "outputs": [],
   "execution_count": 18
  }
 ],
 "metadata": {
  "kernelspec": {
   "display_name": "Python 3",
   "language": "python",
   "name": "python3"
  },
  "language_info": {
   "codemirror_mode": {
    "name": "ipython",
    "version": 2
   },
   "file_extension": ".py",
   "mimetype": "text/x-python",
   "name": "python",
   "nbconvert_exporter": "python",
   "pygments_lexer": "ipython2",
   "version": "2.7.6"
  }
 },
 "nbformat": 4,
 "nbformat_minor": 5
}
