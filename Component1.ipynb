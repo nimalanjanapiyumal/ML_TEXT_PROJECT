{
 "cells": [
  {
   "metadata": {},
   "cell_type": "markdown",
   "source": "# 02_Component1_ABSA.ipynb\n",
   "id": "e5b00d541465598b"
  },
  {
   "metadata": {
    "ExecuteTime": {
     "end_time": "2025-06-15T06:38:44.015056Z",
     "start_time": "2025-06-15T06:38:43.610426Z"
    }
   },
   "cell_type": "code",
   "source": [
    "# data + viz\n",
    "import pandas as pd\n",
    "import numpy as np\n",
    "import matplotlib.pyplot as plt\n",
    "import seaborn as sns\n",
    "\n",
    "# NLP\n",
    "import nltk\n",
    "from nltk.tokenize import word_tokenize\n",
    "from nltk.corpus import stopwords\n",
    "from nltk.stem import WordNetLemmatizer\n",
    "\n",
    "# Transformers\n",
    "from transformers import pipeline, AutoTokenizer, AutoModelForSequenceClassification\n",
    "\n",
    "# utils\n",
    "import re\n",
    "from joblib import dump, load\n",
    "\n",
    "# ensure NLTK data is available\n",
    "nltk.download('punkt')\n",
    "nltk.download('stopwords')\n",
    "nltk.download('wordnet')\n",
    "\n",
    "sns.set(style=\"whitegrid\")\n"
   ],
   "id": "3846dfb41a00a917",
   "outputs": [
    {
     "name": "stderr",
     "output_type": "stream",
     "text": [
      "[nltk_data] Downloading package punkt to\n",
      "[nltk_data]     C:\\Users\\piyum\\AppData\\Roaming\\nltk_data...\n",
      "[nltk_data]   Package punkt is already up-to-date!\n",
      "[nltk_data] Downloading package stopwords to\n",
      "[nltk_data]     C:\\Users\\piyum\\AppData\\Roaming\\nltk_data...\n",
      "[nltk_data]   Package stopwords is already up-to-date!\n",
      "[nltk_data] Downloading package wordnet to\n",
      "[nltk_data]     C:\\Users\\piyum\\AppData\\Roaming\\nltk_data...\n",
      "[nltk_data]   Package wordnet is already up-to-date!\n"
     ]
    }
   ],
   "execution_count": 41
  },
  {
   "metadata": {},
   "cell_type": "markdown",
   "source": "## 2. Load Preprocessed Data\n",
   "id": "9437d5b4d19a7f90"
  },
  {
   "metadata": {
    "ExecuteTime": {
     "end_time": "2025-06-15T06:38:46.408825Z",
     "start_time": "2025-06-15T06:38:46.147233Z"
    }
   },
   "cell_type": "code",
   "source": [
    "df = pd.read_excel(\"cleaned_feedback_preprocessed.xlsx\")\n",
    "# Identify the cleaned text column\n",
    "text_col = \"feedback_text_clean\"  # adjust if different\n",
    "print(\"Records:\", len(df))\n"
   ],
   "id": "6ff6a13341c56a88",
   "outputs": [
    {
     "name": "stdout",
     "output_type": "stream",
     "text": [
      "Records: 1073\n"
     ]
    }
   ],
   "execution_count": 42
  },
  {
   "metadata": {},
   "cell_type": "markdown",
   "source": "## 3. Load Aspect Ontology\n",
   "id": "91cfa24901035307"
  },
  {
   "metadata": {
    "ExecuteTime": {
     "end_time": "2025-06-15T06:38:50.541250Z",
     "start_time": "2025-06-15T06:38:50.523222Z"
    }
   },
   "cell_type": "code",
   "source": [
    "## 3. Define Aspect Ontology Inline\n",
    "\n",
    "# Manually define your internship aspect ontology:\n",
    "ontology = {\n",
    "    \"mentorship\": [\n",
    "        \"mentor\", \"supervisor\", \"coach\", \"guidance\", \"feedback\"\n",
    "    ],\n",
    "    \"technical_support\": [\n",
    "        \"code_review\", \"debugging\", \"technical_support\", \"ci_cd\", \"repository\", \"tools\"\n",
    "    ],\n",
    "    \"learning_opportunities\": [\n",
    "        \"workshop\", \"training\", \"tutorial\", \"learning\", \"skill_development\"\n",
    "    ],\n",
    "    \"workload\": [\n",
    "        \"task\", \"deadline\", \"hours\", \"workload\", \"assignment\"\n",
    "    ],\n",
    "    \"team_collaboration\": [\n",
    "        \"team\", \"collaboration\", \"meeting\", \"communication\", \"pair_programming\"\n",
    "    ],\n",
    "    \"environment\": [\n",
    "        \"workspace\", \"remote_access\", \"office\", \"equipment\", \"infrastructure\"\n",
    "    ],\n",
    "    \"professional_networking\": [\n",
    "        \"networking\", \"event\", \"culture\", \"peers\", \"connections\"\n",
    "    ],\n",
    "    \"career_guidance\": [\n",
    "        \"career\", \"path\", \"review\", \"promotion\", \"performance\"\n",
    "    ]\n",
    "}\n",
    "\n",
    "# Build a reverse map for fast lookup\n",
    "term_to_cat = {\n",
    "    term: cat\n",
    "    for cat, terms in ontology.items()\n",
    "    for term in terms\n",
    "}\n",
    "\n",
    "print(\"Loaded ontology with\", len(term_to_cat), \"terms across\", len(ontology), \"categories.\")\n",
    "\n",
    "def extract_aspects(tokens):\n",
    "    found = []\n",
    "    for t in tokens:\n",
    "        t_lem = WordNetLemmatizer().lemmatize(t.lower())\n",
    "        if t_lem in term_to_cat:\n",
    "            found.append((t_lem, term_to_cat[t_lem]))\n",
    "    return list(set(found))\n"
   ],
   "id": "f7a9406ff90c9ba3",
   "outputs": [
    {
     "name": "stdout",
     "output_type": "stream",
     "text": [
      "Loaded ontology with 41 terms across 8 categories.\n"
     ]
    }
   ],
   "execution_count": 44
  },
  {
   "metadata": {},
   "cell_type": "markdown",
   "source": "## 4. Aspect Term Extraction\n",
   "id": "26605844cde7d4c1"
  },
  {
   "metadata": {
    "ExecuteTime": {
     "end_time": "2025-06-15T06:38:53.850371Z",
     "start_time": "2025-06-15T06:38:53.752911Z"
    }
   },
   "cell_type": "code",
   "source": [
    "# --- SECTION 4: ASPECT TERM EXTRACTION (corrected) ---\n",
    "\n",
    "import pandas as pd\n",
    "from nltk.stem import WordNetLemmatizer\n",
    "import numpy as np\n",
    "\n",
    "# 4.0 Auto-detect your text column (longest average length)\n",
    "text_cols = df.select_dtypes(include='object').columns\n",
    "if not text_cols.any():\n",
    "    raise RuntimeError(\"No object-dtype columns found in df.\")\n",
    "avg_len = {\n",
    "    c: df[c].dropna().astype(str).map(len).mean()\n",
    "    for c in text_cols\n",
    "}\n",
    "clean_col = max(avg_len, key=avg_len.get)\n",
    "print(f\"Auto-detected text column: `{clean_col}`\")\n",
    "\n",
    "# 4.1 Prepare lemmatizer + extractor\n",
    "lemmatizer = WordNetLemmatizer()\n",
    "\n",
    "def extract_aspects(text):\n",
    "    \"\"\"\n",
    "    Split the text on whitespace, lemmatize each token,\n",
    "    and return (term, category) pairs for known terms.\n",
    "    \"\"\"\n",
    "    out = []\n",
    "    for t in str(text).split():\n",
    "        lemma = lemmatizer.lemmatize(t.lower())\n",
    "        if lemma in term_to_cat:\n",
    "            out.append((lemma, term_to_cat[lemma]))\n",
    "    return out\n",
    "\n",
    "# 4.2 Apply extraction to every row\n",
    "df['extracted_aspects'] = df[clean_col].fillna(\"\").apply(extract_aspects)\n",
    "\n",
    "# 4.3 Flatten into absa_terms_df\n",
    "records = []\n",
    "# NOTE: we iterate over the Series via .items(), not .iterrows()\n",
    "for idx, aspects in df['extracted_aspects'].items():\n",
    "    for term, cat in aspects:\n",
    "        records.append({\n",
    "            'record_id': idx,\n",
    "            'aspect_term': term,\n",
    "            'aspect_category': cat  # initial category from term_to_cat\n",
    "        })\n",
    "\n",
    "absa_terms_df = pd.DataFrame(records)\n",
    "\n",
    "# 4.4 Sanity checks\n",
    "print(f\"Extracted {len(absa_terms_df)} total aspect mentions.\")\n",
    "display(absa_terms_df.head())\n"
   ],
   "id": "acaa9f809a10a029",
   "outputs": [
    {
     "name": "stdout",
     "output_type": "stream",
     "text": [
      "Auto-detected text column: `unnamed__7`\n",
      "Extracted 328 total aspect mentions.\n"
     ]
    },
    {
     "data": {
      "text/plain": [
       "   record_id aspect_term         aspect_category\n",
       "0          0    training  learning_opportunities\n",
       "1          1      career         career_guidance\n",
       "2          5        task                workload\n",
       "3          9      career         career_guidance\n",
       "4         11    training  learning_opportunities"
      ],
      "text/html": [
       "<div>\n",
       "<style scoped>\n",
       "    .dataframe tbody tr th:only-of-type {\n",
       "        vertical-align: middle;\n",
       "    }\n",
       "\n",
       "    .dataframe tbody tr th {\n",
       "        vertical-align: top;\n",
       "    }\n",
       "\n",
       "    .dataframe thead th {\n",
       "        text-align: right;\n",
       "    }\n",
       "</style>\n",
       "<table border=\"1\" class=\"dataframe\">\n",
       "  <thead>\n",
       "    <tr style=\"text-align: right;\">\n",
       "      <th></th>\n",
       "      <th>record_id</th>\n",
       "      <th>aspect_term</th>\n",
       "      <th>aspect_category</th>\n",
       "    </tr>\n",
       "  </thead>\n",
       "  <tbody>\n",
       "    <tr>\n",
       "      <th>0</th>\n",
       "      <td>0</td>\n",
       "      <td>training</td>\n",
       "      <td>learning_opportunities</td>\n",
       "    </tr>\n",
       "    <tr>\n",
       "      <th>1</th>\n",
       "      <td>1</td>\n",
       "      <td>career</td>\n",
       "      <td>career_guidance</td>\n",
       "    </tr>\n",
       "    <tr>\n",
       "      <th>2</th>\n",
       "      <td>5</td>\n",
       "      <td>task</td>\n",
       "      <td>workload</td>\n",
       "    </tr>\n",
       "    <tr>\n",
       "      <th>3</th>\n",
       "      <td>9</td>\n",
       "      <td>career</td>\n",
       "      <td>career_guidance</td>\n",
       "    </tr>\n",
       "    <tr>\n",
       "      <th>4</th>\n",
       "      <td>11</td>\n",
       "      <td>training</td>\n",
       "      <td>learning_opportunities</td>\n",
       "    </tr>\n",
       "  </tbody>\n",
       "</table>\n",
       "</div>"
      ]
     },
     "metadata": {},
     "output_type": "display_data"
    }
   ],
   "execution_count": 45
  },
  {
   "metadata": {},
   "cell_type": "markdown",
   "source": "## 5. Category Detection & Disambiguation\n",
   "id": "2fd6188e861fb9ba"
  },
  {
   "metadata": {
    "ExecuteTime": {
     "end_time": "2025-06-15T06:39:03.745873Z",
     "start_time": "2025-06-15T06:39:03.720122Z"
    }
   },
   "cell_type": "code",
   "source": [
    "# --- PART 5: CATEGORY DISAMBIGUATION (with empty‐DataFrame guard) ---\n",
    "\n",
    "from difflib import get_close_matches\n",
    "\n",
    "# Guard: if no aspects were extracted, skip this step\n",
    "if absa_terms_df.empty:\n",
    "    print(\"absa_terms_df is empty; no aspects to categorize. Please re-run Part 4.\")\n",
    "else:\n",
    "    # 5.1 Define your mapping function (uses term_to_cat from Section 3)\n",
    "    def map_to_category(term):\n",
    "        if term in term_to_cat:\n",
    "            return term_to_cat[term]\n",
    "        # fuzzy fallback\n",
    "        m = get_close_matches(term, term_to_cat.keys(), n=1, cutoff=0.8)\n",
    "        return term_to_cat[m[0]] if m else None\n",
    "\n",
    "    # 5.2 Apply mapping\n",
    "    absa_terms_df['aspect_category'] = absa_terms_df['aspect_term'].apply(map_to_category)\n",
    "\n",
    "    # 5.3 Drop unmapped rows\n",
    "    before = len(absa_terms_df)\n",
    "    absa_terms_df.dropna(subset=['aspect_category'], inplace=True)\n",
    "    after = len(absa_terms_df)\n",
    "    print(f\"Dropped {before - after} rows with no matching category.\")\n",
    "\n",
    "    # 5.4 Inspect results\n",
    "    print(\"\\nSample aspect → category mappings:\")\n",
    "    display(absa_terms_df[['aspect_term','aspect_category']].drop_duplicates().head(10))"
   ],
   "id": "50d2314dc116d9d1",
   "outputs": [
    {
     "name": "stdout",
     "output_type": "stream",
     "text": [
      "Dropped 0 rows with no matching category.\n",
      "\n",
      "Sample aspect → category mappings:\n"
     ]
    },
    {
     "data": {
      "text/plain": [
       "      aspect_term          aspect_category\n",
       "0        training   learning_opportunities\n",
       "1          career          career_guidance\n",
       "2            task                 workload\n",
       "9         culture  professional_networking\n",
       "16       learning   learning_opportunities\n",
       "21           team       team_collaboration\n",
       "23         office              environment\n",
       "38         review          career_guidance\n",
       "45       guidance               mentorship\n",
       "93  communication       team_collaboration"
      ],
      "text/html": [
       "<div>\n",
       "<style scoped>\n",
       "    .dataframe tbody tr th:only-of-type {\n",
       "        vertical-align: middle;\n",
       "    }\n",
       "\n",
       "    .dataframe tbody tr th {\n",
       "        vertical-align: top;\n",
       "    }\n",
       "\n",
       "    .dataframe thead th {\n",
       "        text-align: right;\n",
       "    }\n",
       "</style>\n",
       "<table border=\"1\" class=\"dataframe\">\n",
       "  <thead>\n",
       "    <tr style=\"text-align: right;\">\n",
       "      <th></th>\n",
       "      <th>aspect_term</th>\n",
       "      <th>aspect_category</th>\n",
       "    </tr>\n",
       "  </thead>\n",
       "  <tbody>\n",
       "    <tr>\n",
       "      <th>0</th>\n",
       "      <td>training</td>\n",
       "      <td>learning_opportunities</td>\n",
       "    </tr>\n",
       "    <tr>\n",
       "      <th>1</th>\n",
       "      <td>career</td>\n",
       "      <td>career_guidance</td>\n",
       "    </tr>\n",
       "    <tr>\n",
       "      <th>2</th>\n",
       "      <td>task</td>\n",
       "      <td>workload</td>\n",
       "    </tr>\n",
       "    <tr>\n",
       "      <th>9</th>\n",
       "      <td>culture</td>\n",
       "      <td>professional_networking</td>\n",
       "    </tr>\n",
       "    <tr>\n",
       "      <th>16</th>\n",
       "      <td>learning</td>\n",
       "      <td>learning_opportunities</td>\n",
       "    </tr>\n",
       "    <tr>\n",
       "      <th>21</th>\n",
       "      <td>team</td>\n",
       "      <td>team_collaboration</td>\n",
       "    </tr>\n",
       "    <tr>\n",
       "      <th>23</th>\n",
       "      <td>office</td>\n",
       "      <td>environment</td>\n",
       "    </tr>\n",
       "    <tr>\n",
       "      <th>38</th>\n",
       "      <td>review</td>\n",
       "      <td>career_guidance</td>\n",
       "    </tr>\n",
       "    <tr>\n",
       "      <th>45</th>\n",
       "      <td>guidance</td>\n",
       "      <td>mentorship</td>\n",
       "    </tr>\n",
       "    <tr>\n",
       "      <th>93</th>\n",
       "      <td>communication</td>\n",
       "      <td>team_collaboration</td>\n",
       "    </tr>\n",
       "  </tbody>\n",
       "</table>\n",
       "</div>"
      ]
     },
     "metadata": {},
     "output_type": "display_data"
    }
   ],
   "execution_count": 46
  },
  {
   "metadata": {},
   "cell_type": "markdown",
   "source": "## 6. Sentiment Polarity Classification\n",
   "id": "fb4c91d4abf16fd2"
  },
  {
   "metadata": {
    "ExecuteTime": {
     "end_time": "2025-06-15T06:39:09.946336Z",
     "start_time": "2025-06-15T06:39:09.844781Z"
    }
   },
   "cell_type": "code",
   "source": [
    "# --- SECTION 6: SENTIMENT POLARITY CLASSIFICATION (using NLTK VADER) ---\n",
    "\n",
    "import nltk\n",
    "from nltk.sentiment.vader import SentimentIntensityAnalyzer\n",
    "import re\n",
    "\n",
    "# 6.0 Ensure the cleaned-text column exists\n",
    "if clean_col not in df.columns:\n",
    "    raise RuntimeError(f\"Cleaned-text column '{clean_col}' not found in df.\")\n",
    "\n",
    "# 6.1 Download the VADER lexicon (only once)\n",
    "nltk.download('vader_lexicon')\n",
    "\n",
    "# 6.2 Initialize the VADER analyzer\n",
    "sia = SentimentIntensityAnalyzer()\n",
    "\n",
    "def classify_aspect_sentiment(row):\n",
    "    \"\"\"\n",
    "    Use the piece of text around the aspect_term for sentiment scoring.\n",
    "    Falls back to full text if no sentence contains the term.\n",
    "    \"\"\"\n",
    "    rid  = row['record_id']\n",
    "    term = row['aspect_term']\n",
    "    text = str(df.at[rid, clean_col])\n",
    "\n",
    "    # Split into sentences on punctuation\n",
    "    sentences = re.split(r'[.!?]\\s*', text)\n",
    "    # Find sentences that mention the aspect term\n",
    "    segs = [s for s in sentences if re.search(rf\"\\b{re.escape(term)}\\b\", s, flags=re.IGNORECASE)]\n",
    "    seg = \" \".join(segs) if segs else text\n",
    "\n",
    "    # Compute compound score\n",
    "    score = sia.polarity_scores(seg)['compound']\n",
    "    # Map to discrete polarity\n",
    "    if score >=  0.05: return  1\n",
    "    if score <= -0.05: return -1\n",
    "    return 0\n",
    "\n",
    "# 6.3 Apply to every aspect mention\n",
    "absa_terms_df['polarity'] = absa_terms_df.apply(classify_aspect_sentiment, axis=1)\n",
    "\n",
    "# 6.4 Quick distribution check\n",
    "print(\"Polarity distribution (VADER):\")\n",
    "print(absa_terms_df['polarity'].value_counts())\n",
    "\n",
    "# 6.5 Final sample\n",
    "absa_terms_df.head()\n"
   ],
   "id": "2a5de24452a354ee",
   "outputs": [
    {
     "name": "stdout",
     "output_type": "stream",
     "text": [
      "Polarity distribution (VADER):\n",
      "polarity\n",
      "1    290\n",
      "0     38\n",
      "Name: count, dtype: int64\n"
     ]
    },
    {
     "name": "stderr",
     "output_type": "stream",
     "text": [
      "[nltk_data] Downloading package vader_lexicon to\n",
      "[nltk_data]     C:\\Users\\piyum\\AppData\\Roaming\\nltk_data...\n",
      "[nltk_data]   Package vader_lexicon is already up-to-date!\n"
     ]
    },
    {
     "data": {
      "text/plain": [
       "   record_id aspect_term         aspect_category  polarity\n",
       "0          0    training  learning_opportunities         0\n",
       "1          1      career         career_guidance         1\n",
       "2          5        task                workload         1\n",
       "3          9      career         career_guidance         1\n",
       "4         11    training  learning_opportunities         1"
      ],
      "text/html": [
       "<div>\n",
       "<style scoped>\n",
       "    .dataframe tbody tr th:only-of-type {\n",
       "        vertical-align: middle;\n",
       "    }\n",
       "\n",
       "    .dataframe tbody tr th {\n",
       "        vertical-align: top;\n",
       "    }\n",
       "\n",
       "    .dataframe thead th {\n",
       "        text-align: right;\n",
       "    }\n",
       "</style>\n",
       "<table border=\"1\" class=\"dataframe\">\n",
       "  <thead>\n",
       "    <tr style=\"text-align: right;\">\n",
       "      <th></th>\n",
       "      <th>record_id</th>\n",
       "      <th>aspect_term</th>\n",
       "      <th>aspect_category</th>\n",
       "      <th>polarity</th>\n",
       "    </tr>\n",
       "  </thead>\n",
       "  <tbody>\n",
       "    <tr>\n",
       "      <th>0</th>\n",
       "      <td>0</td>\n",
       "      <td>training</td>\n",
       "      <td>learning_opportunities</td>\n",
       "      <td>0</td>\n",
       "    </tr>\n",
       "    <tr>\n",
       "      <th>1</th>\n",
       "      <td>1</td>\n",
       "      <td>career</td>\n",
       "      <td>career_guidance</td>\n",
       "      <td>1</td>\n",
       "    </tr>\n",
       "    <tr>\n",
       "      <th>2</th>\n",
       "      <td>5</td>\n",
       "      <td>task</td>\n",
       "      <td>workload</td>\n",
       "      <td>1</td>\n",
       "    </tr>\n",
       "    <tr>\n",
       "      <th>3</th>\n",
       "      <td>9</td>\n",
       "      <td>career</td>\n",
       "      <td>career_guidance</td>\n",
       "      <td>1</td>\n",
       "    </tr>\n",
       "    <tr>\n",
       "      <th>4</th>\n",
       "      <td>11</td>\n",
       "      <td>training</td>\n",
       "      <td>learning_opportunities</td>\n",
       "      <td>1</td>\n",
       "    </tr>\n",
       "  </tbody>\n",
       "</table>\n",
       "</div>"
      ]
     },
     "execution_count": 47,
     "metadata": {},
     "output_type": "execute_result"
    }
   ],
   "execution_count": 47
  },
  {
   "metadata": {},
   "cell_type": "markdown",
   "source": "## 7. Run ABSA Pipeline\n",
   "id": "d47f240743bea340"
  },
  {
   "metadata": {
    "ExecuteTime": {
     "end_time": "2025-06-15T06:39:23.473273Z",
     "start_time": "2025-06-15T06:39:23.427543Z"
    }
   },
   "cell_type": "code",
   "source": [
    "# --- SECTION 4: ASPECT TERM EXTRACTION ---\n",
    "\n",
    "import pandas as pd\n",
    "from nltk.stem import WordNetLemmatizer\n",
    "\n",
    "# 4.0 Inspect all object-dtype columns and show up to 3 non-null samples each\n",
    "print(\"Inspecting candidate text columns:\")\n",
    "for col in df.select_dtypes(include='object').columns:\n",
    "    samples = df[col].dropna().astype(str).head(3).tolist()\n",
    "    print(f\"• {col!r}: {samples}\")\n",
    "print(\"\\nChoose which column above contains the cleaned feedback text and assign it to `text_col`.\\n\")\n",
    "\n",
    "# 4.1 Manually set this after inspection:\n",
    "text_col = \"unnamed__3\"   # ← REPLACE with the actual column name you saw above\n",
    "\n",
    "if text_col not in df.columns:\n",
    "    raise KeyError(f\"Column '{text_col}' not found. Available columns: {df.columns.tolist()}\")\n",
    "\n",
    "print(f\"Using column `{text_col}`. Sample entries:\")\n",
    "print(df[text_col].dropna().astype(str).head(3).tolist(), \"\\n\")\n",
    "\n",
    "# 4.2 Prepare lemmatizer and term→category lookup (must already exist)\n",
    "lemmatizer = WordNetLemmatizer()\n",
    "# term_to_cat = { term:category for category, terms in ontology.items() for term in terms }\n",
    "\n",
    "def extract_aspects(text):\n",
    "    \"\"\"\n",
    "    Given a text string, split on whitespace,\n",
    "    lemmatize tokens, and return a list of (term, category).\n",
    "    \"\"\"\n",
    "    out = []\n",
    "    for token in str(text).split():\n",
    "        lemma = lemmatizer.lemmatize(token.lower())\n",
    "        if lemma in term_to_cat:\n",
    "            out.append((lemma, term_to_cat[lemma]))\n",
    "    return out\n",
    "\n",
    "# 4.3 Apply extraction to every row\n",
    "df['extracted_aspects'] = df[text_col].fillna(\"\").apply(extract_aspects)\n",
    "\n",
    "# 4.4 Flatten into absa_terms_df\n",
    "records = []\n",
    "for idx, aspects in df['extracted_aspects'].items():\n",
    "    for term, cat in aspects:\n",
    "        records.append({\n",
    "            'record_id':      idx,\n",
    "            'aspect_term':    term,\n",
    "            'aspect_category':cat\n",
    "        })\n",
    "absa_terms_df = pd.DataFrame(records)\n",
    "\n",
    "# 4.5 Sanity checks\n",
    "print(f\"Extracted {len(absa_terms_df)} total aspect mentions.\")\n",
    "display(absa_terms_df.head())\n"
   ],
   "id": "4a9f1ba8113ac7be",
   "outputs": [
    {
     "name": "stdout",
     "output_type": "stream",
     "text": [
      "Inspecting candidate text columns:\n",
      "• 'unnamed__1': [' Are you given adequate amount of work          ', ' Yes                                            ', ' Yes                                            ']\n",
      "• 'unnamed__2': [' What do you think about the work environment                                                                                                                                                                                 ', ' It is a good working environment for who is starting him/her career.                                                                                                                                                         ', ' Friendly staff and they help us whenever required. Good environment for learning.                                                                                                                                            ']\n",
      "• 'unnamed__3': [' Are the employees of the organization friendly and supportive            ', ' Yes of course. They are very supportive and always make us in right way. ', ' Yes                                                                      ']\n",
      "• 'unnamed__4': [' Is the management of the organization supportive                                                     ', ' Yes.                                                                                                 ', ' Yes                                                                                                  ']\n",
      "• 'unnamed__5': [' Does the organization pay you an allowance                                             ', '20000', ' Yes, not informed yet                                                                  ']\n",
      "• 'unnamed__6': [' Do you have any problem/concerns regarding the industrial training program                                                                                                        ', ' No                                                                                                                                                                                ', ' No                                                                                                                                                                                ']\n",
      "• 'unnamed__7': [' Overall comment about the Industrial Training                                                                                                                                                   ', ' It is a good opportunity to  start our career life in the IT field.                                                                                                                             ', ' Much helpful to learn the current standards prevailing in the IT industry                                                                                                                       ']\n",
      "• 'unnamed__8': [' What is your level of satisfaction about your internship? a-high, b-Average, c-Low', ' a                                                         ', ' a                                                         ']\n",
      "• 'unnamed__9': [' Do you recommend your training place a- Yes , b- No', ' a                                    ', ' a                                    ']\n",
      "• 'extracted_aspects': [\"[('training', 'learning_opportunities')]\", \"[('career', 'career_guidance')]\", '[]']\n",
      "\n",
      "Choose which column above contains the cleaned feedback text and assign it to `text_col`.\n",
      "\n",
      "Using column `unnamed__3`. Sample entries:\n",
      "[' Are the employees of the organization friendly and supportive            ', ' Yes of course. They are very supportive and always make us in right way. ', ' Yes                                                                      '] \n",
      "\n",
      "Extracted 22 total aspect mentions.\n"
     ]
    },
    {
     "data": {
      "text/plain": [
       "   record_id aspect_term         aspect_category\n",
       "0         71        team      team_collaboration\n",
       "1         96        team      team_collaboration\n",
       "2        114      mentor              mentorship\n",
       "3        188        team      team_collaboration\n",
       "4        242    learning  learning_opportunities"
      ],
      "text/html": [
       "<div>\n",
       "<style scoped>\n",
       "    .dataframe tbody tr th:only-of-type {\n",
       "        vertical-align: middle;\n",
       "    }\n",
       "\n",
       "    .dataframe tbody tr th {\n",
       "        vertical-align: top;\n",
       "    }\n",
       "\n",
       "    .dataframe thead th {\n",
       "        text-align: right;\n",
       "    }\n",
       "</style>\n",
       "<table border=\"1\" class=\"dataframe\">\n",
       "  <thead>\n",
       "    <tr style=\"text-align: right;\">\n",
       "      <th></th>\n",
       "      <th>record_id</th>\n",
       "      <th>aspect_term</th>\n",
       "      <th>aspect_category</th>\n",
       "    </tr>\n",
       "  </thead>\n",
       "  <tbody>\n",
       "    <tr>\n",
       "      <th>0</th>\n",
       "      <td>71</td>\n",
       "      <td>team</td>\n",
       "      <td>team_collaboration</td>\n",
       "    </tr>\n",
       "    <tr>\n",
       "      <th>1</th>\n",
       "      <td>96</td>\n",
       "      <td>team</td>\n",
       "      <td>team_collaboration</td>\n",
       "    </tr>\n",
       "    <tr>\n",
       "      <th>2</th>\n",
       "      <td>114</td>\n",
       "      <td>mentor</td>\n",
       "      <td>mentorship</td>\n",
       "    </tr>\n",
       "    <tr>\n",
       "      <th>3</th>\n",
       "      <td>188</td>\n",
       "      <td>team</td>\n",
       "      <td>team_collaboration</td>\n",
       "    </tr>\n",
       "    <tr>\n",
       "      <th>4</th>\n",
       "      <td>242</td>\n",
       "      <td>learning</td>\n",
       "      <td>learning_opportunities</td>\n",
       "    </tr>\n",
       "  </tbody>\n",
       "</table>\n",
       "</div>"
      ]
     },
     "metadata": {},
     "output_type": "display_data"
    }
   ],
   "execution_count": 48
  },
  {
   "metadata": {
    "ExecuteTime": {
     "end_time": "2025-06-15T06:39:29.556699Z",
     "start_time": "2025-06-15T06:39:29.531924Z"
    }
   },
   "cell_type": "code",
   "source": [
    "# --- PART 5: CATEGORY DISAMBIGUATION & CLEANUP ---\n",
    "\n",
    "# 5.0 Check your columns\n",
    "print(\"absa_terms_df columns:\", absa_terms_df.columns.tolist())\n",
    "\n",
    "# 5.1 If aspect_category isn’t there (it should be, from Part 4), map now\n",
    "if 'aspect_category' not in absa_terms_df.columns:\n",
    "    absa_terms_df['aspect_category'] = absa_terms_df['aspect_term'].map(term_to_cat)\n",
    "\n",
    "# 5.2 Drop anything unmapped\n",
    "before = len(absa_terms_df)\n",
    "absa_terms_df = absa_terms_df.dropna(subset=['aspect_category']).reset_index(drop=True)\n",
    "print(f\"Dropped {before - len(absa_terms_df)} rows with no category.\")\n",
    "\n",
    "# 5.3 Quick view\n",
    "print(\"Aspect → Category sample:\")\n",
    "print(absa_terms_df[['aspect_term','aspect_category']].drop_duplicates().head(10))\n",
    "print(\"\\nCategory counts:\")\n",
    "print(absa_terms_df['aspect_category'].value_counts())\n"
   ],
   "id": "fa227f06f99e61e4",
   "outputs": [
    {
     "name": "stdout",
     "output_type": "stream",
     "text": [
      "absa_terms_df columns: ['record_id', 'aspect_term', 'aspect_category']\n",
      "Dropped 0 rows with no category.\n",
      "Aspect → Category sample:\n",
      "   aspect_term          aspect_category\n",
      "0         team       team_collaboration\n",
      "2       mentor               mentorship\n",
      "4     learning   learning_opportunities\n",
      "5   supervisor               mentorship\n",
      "11       event  professional_networking\n",
      "12     meeting       team_collaboration\n",
      "\n",
      "Category counts:\n",
      "aspect_category\n",
      "team_collaboration         12\n",
      "mentorship                  8\n",
      "learning_opportunities      1\n",
      "professional_networking     1\n",
      "Name: count, dtype: int64\n"
     ]
    }
   ],
   "execution_count": 49
  },
  {
   "metadata": {
    "ExecuteTime": {
     "end_time": "2025-06-15T06:39:34.953267Z",
     "start_time": "2025-06-15T06:39:34.916776Z"
    }
   },
   "cell_type": "code",
   "source": [
    "# --- SECTION 6: SENTIMENT POLARITY CLASSIFICATION (NLTK VADER, robust to non-string rows) ---\n",
    "\n",
    "import nltk\n",
    "from nltk.sentiment.vader import SentimentIntensityAnalyzer\n",
    "import re\n",
    "\n",
    "# 6.0 Prepare a clean string series for your text column\n",
    "cleaned_series = df[clean_col].fillna(\"\").astype(str)\n",
    "\n",
    "# 6.1 Download VADER lexicon (if not already)\n",
    "nltk.download('vader_lexicon')\n",
    "\n",
    "# 6.2 Initialize the analyzer\n",
    "sia = SentimentIntensityAnalyzer()\n",
    "\n",
    "def classify_sentiment_for_aspect(rid, term):\n",
    "    \"\"\"\n",
    "    Use the sentence containing the term (or full text),\n",
    "    compute VADER compound score, and discretize to -1/0/+1.\n",
    "    \"\"\"\n",
    "    text = cleaned_series.iloc[rid]\n",
    "    # split into simple sentences\n",
    "    sentences = re.split(r'[.!?]\\s*', text)\n",
    "    # find any sentence containing the exact term\n",
    "    segs = [s for s in sentences if re.search(rf\"\\b{re.escape(term)}\\b\", s, flags=re.IGNORECASE)]\n",
    "    segment = segs[0] if segs else text\n",
    "    # compute compound score\n",
    "    score = sia.polarity_scores(segment)['compound']\n",
    "    # discretize\n",
    "    if score >=  0.05: return  1\n",
    "    if score <= -0.05: return -1\n",
    "    return 0\n",
    "\n",
    "# 6.3 Apply over absa_terms_df\n",
    "# We iterate via .apply row-wise, passing record_id and aspect_term\n",
    "absa_terms_df['polarity'] = absa_terms_df.apply(\n",
    "    lambda row: classify_sentiment_for_aspect(row['record_id'], row['aspect_term']),\n",
    "    axis=1\n",
    ")\n",
    "\n",
    "# 6.4 Check results\n",
    "print(\"Polarity distribution (NLTK VADER):\")\n",
    "print(absa_terms_df['polarity'].value_counts())\n",
    "\n",
    "print(\"\\nSample ABSA results with polarity:\")\n",
    "display(absa_terms_df.head())\n"
   ],
   "id": "c7357bcf76b7d267",
   "outputs": [
    {
     "name": "stdout",
     "output_type": "stream",
     "text": [
      "Polarity distribution (NLTK VADER):\n",
      "polarity\n",
      "1    20\n",
      "0     2\n",
      "Name: count, dtype: int64\n",
      "\n",
      "Sample ABSA results with polarity:\n"
     ]
    },
    {
     "name": "stderr",
     "output_type": "stream",
     "text": [
      "[nltk_data] Downloading package vader_lexicon to\n",
      "[nltk_data]     C:\\Users\\piyum\\AppData\\Roaming\\nltk_data...\n",
      "[nltk_data]   Package vader_lexicon is already up-to-date!\n"
     ]
    },
    {
     "data": {
      "text/plain": [
       "   record_id aspect_term         aspect_category  polarity\n",
       "0         71        team      team_collaboration         1\n",
       "1         96        team      team_collaboration         1\n",
       "2        114      mentor              mentorship         1\n",
       "3        188        team      team_collaboration         1\n",
       "4        242    learning  learning_opportunities         1"
      ],
      "text/html": [
       "<div>\n",
       "<style scoped>\n",
       "    .dataframe tbody tr th:only-of-type {\n",
       "        vertical-align: middle;\n",
       "    }\n",
       "\n",
       "    .dataframe tbody tr th {\n",
       "        vertical-align: top;\n",
       "    }\n",
       "\n",
       "    .dataframe thead th {\n",
       "        text-align: right;\n",
       "    }\n",
       "</style>\n",
       "<table border=\"1\" class=\"dataframe\">\n",
       "  <thead>\n",
       "    <tr style=\"text-align: right;\">\n",
       "      <th></th>\n",
       "      <th>record_id</th>\n",
       "      <th>aspect_term</th>\n",
       "      <th>aspect_category</th>\n",
       "      <th>polarity</th>\n",
       "    </tr>\n",
       "  </thead>\n",
       "  <tbody>\n",
       "    <tr>\n",
       "      <th>0</th>\n",
       "      <td>71</td>\n",
       "      <td>team</td>\n",
       "      <td>team_collaboration</td>\n",
       "      <td>1</td>\n",
       "    </tr>\n",
       "    <tr>\n",
       "      <th>1</th>\n",
       "      <td>96</td>\n",
       "      <td>team</td>\n",
       "      <td>team_collaboration</td>\n",
       "      <td>1</td>\n",
       "    </tr>\n",
       "    <tr>\n",
       "      <th>2</th>\n",
       "      <td>114</td>\n",
       "      <td>mentor</td>\n",
       "      <td>mentorship</td>\n",
       "      <td>1</td>\n",
       "    </tr>\n",
       "    <tr>\n",
       "      <th>3</th>\n",
       "      <td>188</td>\n",
       "      <td>team</td>\n",
       "      <td>team_collaboration</td>\n",
       "      <td>1</td>\n",
       "    </tr>\n",
       "    <tr>\n",
       "      <th>4</th>\n",
       "      <td>242</td>\n",
       "      <td>learning</td>\n",
       "      <td>learning_opportunities</td>\n",
       "      <td>1</td>\n",
       "    </tr>\n",
       "  </tbody>\n",
       "</table>\n",
       "</div>"
      ]
     },
     "metadata": {},
     "output_type": "display_data"
    }
   ],
   "execution_count": 50
  },
  {
   "metadata": {},
   "cell_type": "markdown",
   "source": "## 9. Visualizations\n",
   "id": "f0ed2e3e3ea803f9"
  },
  {
   "metadata": {
    "ExecuteTime": {
     "end_time": "2025-06-15T06:39:43.845313Z",
     "start_time": "2025-06-15T06:39:43.432090Z"
    }
   },
   "cell_type": "code",
   "source": [
    "# 9.1 Aspect mention counts\n",
    "plt.figure(figsize=(8,4))\n",
    "absa_terms_df['aspect_category'].value_counts().plot(kind='bar')\n",
    "plt.title('Aspect Mention Counts')\n",
    "plt.xlabel('Aspect Category')\n",
    "plt.ylabel('Number of Mentions')\n",
    "plt.xticks(rotation=45)\n",
    "plt.tight_layout()\n",
    "plt.show()\n",
    "\n",
    "# 9.2 Sentiment distribution per aspect\n",
    "plt.figure(figsize=(12,6))\n",
    "sns.countplot(data=absa_terms_df, x='aspect_category', hue='polarity')\n",
    "plt.title('Sentiment Distribution by Aspect')\n",
    "plt.xlabel('Aspect Category')\n",
    "plt.ylabel('Count')\n",
    "plt.xticks(rotation=45)\n",
    "plt.legend(title='Polarity', labels=['Negative', 'Neutral', 'Positive'])\n",
    "plt.tight_layout()\n",
    "plt.show()\n"
   ],
   "id": "2e0cc3aa860e10bd",
   "outputs": [
    {
     "data": {
      "text/plain": [
       "<Figure size 800x400 with 1 Axes>"
      ],
      "image/png": "[encoded data removed]"
     },
     "metadata": {},
     "output_type": "display_data"
    },
    {
     "data": {
      "text/plain": [
       "<Figure size 1200x600 with 1 Axes>"
      ],
      "image/png": "[encoded data removed]"
     },
     "metadata": {},
     "output_type": "display_data"
    }
   ],
   "execution_count": 51
  },
  {
   "metadata": {},
   "cell_type": "markdown",
   "source": "## 10. Save Outputs & Models\n",
   "id": "598f5ba9d68e96bb"
  },
  {
   "metadata": {
    "ExecuteTime": {
     "end_time": "2025-06-15T06:39:50.082503Z",
     "start_time": "2025-06-15T06:39:50.048120Z"
    }
   },
   "cell_type": "code",
   "source": [
    "# 10. Save ABSA Outputs & Ontology\n",
    "\n",
    "from joblib import dump\n",
    "\n",
    "# 10.1 Save the final aspect–sentiment DataFrame\n",
    "absa_terms_df.to_excel(\"absa_aspect_sentiment.xlsx\", index=False)\n",
    "\n",
    "# 10.2 Persist your aspect ontology mapping\n",
    "# (This is the term→category dict you’ve been using)\n",
    "dump(term_to_cat, \"models/term_to_cat.joblib\")\n",
    "\n",
    "# If you are using a HuggingFace model and want to save it, you could do:\n",
    "# sent_pipe.model.save_pretrained(\"models/sentiment_model\")\n",
    "# sent_pipe.tokenizer.save_pretrained(\"models/sentiment_tokenizer\")\n"
   ],
   "id": "dea8d928d3bd0e3f",
   "outputs": [
    {
     "data": {
      "text/plain": [
       "['models/term_to_cat.joblib']"
      ]
     },
     "execution_count": 52,
     "metadata": {},
     "output_type": "execute_result"
    }
   ],
   "execution_count": 52
  }
 ],
 "metadata": {
  "kernelspec": {
   "display_name": "Python 3",
   "language": "python",
   "name": "python3"
  },
  "language_info": {
   "codemirror_mode": {
    "name": "ipython",
    "version": 2
   },
   "file_extension": ".py",
   "mimetype": "text/x-python",
   "name": "python",
   "nbconvert_exporter": "python",
   "pygments_lexer": "ipython2",
   "version": "2.7.6"
  }
 },
 "nbformat": 4,
 "nbformat_minor": 5
}
